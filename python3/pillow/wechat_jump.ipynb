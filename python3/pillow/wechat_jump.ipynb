{
 "cells": [
  {
   "cell_type": "code",
   "execution_count": 1,
   "metadata": {},
   "outputs": [
    {
     "data": {
      "text/plain": [
       "<matplotlib.image.AxesImage at 0x1131cd128>"
      ]
     },
     "execution_count": 1,
     "metadata": {},
     "output_type": "execute_result"
    },
    {
     "data": {
      "image/png": "[encoded data removed]",
      "text/plain": [
       "<matplotlib.figure.Figure at 0x1113b5278>"
      ]
     },
     "metadata": {},
     "output_type": "display_data"
    }
   ],
   "source": [
    "%matplotlib inline\n",
    "from matplotlib.pyplot import imshow\n",
    "import numpy as np\n",
    "from PIL import Image\n",
    "im = Image.open('./autojump.png')\n",
    "im_pixel = im.load()\n",
    "w, h = im.size\n",
    "DEBUG_COLOR_RED = (200, 0, 0, 255)\n",
    "DEBUG_COLOR_GREEN = (0, 200, 0, 255)\n",
    "\n",
    "imshow(np.asarray(im))"
   ]
  },
  {
   "cell_type": "code",
   "execution_count": 2,
   "metadata": {},
   "outputs": [
    {
     "name": "stdout",
     "output_type": "stream",
     "text": [
      "scan_start_y: 476\n"
     ]
    }
   ],
   "source": [
    "scan_start_y = 0\n",
    "for i in range(int(h / 3), int(h*2 / 3), 50):\n",
    "    last_pixel = im_pixel[0, i]\n",
    "    for j in range(1, w):\n",
    "        pixel = im_pixel[j, i]\n",
    "        # 不是纯色的线，则记录 scan_start_y 的值，准备跳出循环\n",
    "        if pixel != last_pixel:\n",
    "            scan_start_y = i - 50\n",
    "            break\n",
    "    if scan_start_y:\n",
    "            break\n",
    "print('scan_start_y: {}'.format(scan_start_y))"
   ]
  },
  {
   "cell_type": "code",
   "execution_count": 3,
   "metadata": {},
   "outputs": [
    {
     "name": "stdout",
     "output_type": "stream",
     "text": [
      "start center point: (225, 739)\n"
     ]
    },
    {
     "data": {
      "image/png": "[encoded data removed]",
      "text/plain": [
       "<matplotlib.figure.Figure at 0x113917208>"
      ]
     },
     "metadata": {},
     "output_type": "display_data"
    }
   ],
   "source": [
    "scan_x_border = int(w / 8)  # 扫描棋子时的左右边界\n",
    "piece_x_sum = 0\n",
    "piece_x_c = 0\n",
    "piece_y_max = 0\n",
    "piece_base_height_1_2 = 13\n",
    "\n",
    "for y in range(scan_start_y, int(h * 2 / 3)):\n",
    "    # 横坐标方面减少了一部分扫描开销\n",
    "    for x in range(scan_x_border, w - scan_x_border):\n",
    "        pixel = im_pixel[x, y]\n",
    "        # 根据棋子的最低几行的颜色判断，找最后一行那些点的平均值\n",
    "        if (50 < pixel[0] < 60) \\\n",
    "                and (53 < pixel[1] < 63) \\\n",
    "                and (95 < pixel[2] < 110):\n",
    "            piece_x_sum += x\n",
    "            piece_x_c += 1\n",
    "            piece_y_max = max(y, piece_y_max)\n",
    "            im.putpixel((x, y), DEBUG_COLOR_RED)\n",
    "\n",
    "piece_x = int(piece_x_sum / piece_x_c)\n",
    "piece_y = piece_y_max - piece_base_height_1_2  # 上移一点距离\n",
    "im.putpixel((piece_x, piece_y), DEBUG_COLOR_GREEN)\n",
    "imshow(np.asarray(im))\n",
    "print(\"start center point: ({}, {})\".format(piece_x, piece_y))"
   ]
  },
  {
   "cell_type": "code",
   "execution_count": 4,
   "metadata": {},
   "outputs": [
    {
     "name": "stdout",
     "output_type": "stream",
     "text": [
      "(525, 652)\n",
      "board center: (525, 566)\n"
     ]
    }
   ],
   "source": [
    "board_x = 0\n",
    "board_y = 0\n",
    "piece_body_width = 47\n",
    "\n",
    "if piece_x < w/2:\n",
    "    board_x_start = piece_x\n",
    "    board_x_end = w\n",
    "else:\n",
    "    board_x_start = 0\n",
    "    board_x_end = piece_x\n",
    "\n",
    "#for x in range(0, w):\n",
    "#    im.putpixel((x, int(h*2/3)), DEBUG_COLOR_RED)\n",
    "    \n",
    "#for x in range(0, w):\n",
    "#    im.putpixel((x, int(h/3)), DEBUG_COLOR_RED)\n",
    "    \n",
    "    \n",
    "#for y in range(0, h):\n",
    "#    im.putpixel((board_x_start, y), DEBUG_COLOR_GREEN)\n",
    "    \n",
    "#for y in range(0, h):\n",
    "#    im.putpixel((board_x_end-1, y), DEBUG_COLOR_GREEN)   \n",
    "    \n",
    "    \n",
    "for y in range(int(h / 3), int(h * 2 / 3)):\n",
    "    last_pixel = im_pixel[0, y]\n",
    "    if board_x or board_y:\n",
    "        break\n",
    "    board_x_sum = 0\n",
    "    board_x_c = 0\n",
    "    \n",
    "    for x in range(int(board_x_start), int(board_x_end)):\n",
    "        pixel = im_pixel[x, y]\n",
    "        # 修掉脑袋比下一个小格子还高的情况的 bug\n",
    "        if abs(x - piece_x) < piece_body_width:\n",
    "            continue\n",
    "            \n",
    "        # 这个颜色判断应该 OK，暂时不提出来\n",
    "        if abs(pixel[0] - last_pixel[0]) \\\n",
    "                + abs(pixel[1] - last_pixel[1]) \\\n",
    "                + abs(pixel[2] - last_pixel[2]) > 10:\n",
    "            # print(\"x, y: {}, {}\".format(x, y))\n",
    "            im.putpixel((x, y), DEBUG_COLOR_RED) \n",
    "            board_x_sum += x\n",
    "            board_x_c += 1\n",
    "    if board_x_sum:\n",
    "        board_x = (int) (board_x_sum / board_x_c)\n",
    "last_pixel = im_pixel[board_x, y]\n",
    "\n",
    "\n",
    "# 从上顶点往下 +274 的位置开始向上找颜色与上顶点一样的点，为下顶点\n",
    "# 该方法对所有纯色平面和部分非纯色平面有效，对高尔夫草坪面、木纹桌面、\n",
    "# 药瓶和非菱形的碟机（好像是）会判断错误\n",
    "for k in range(y+274, y, -1):  # 274 取开局时最大的方块的上下顶点距离\n",
    "    pixel = im_pixel[board_x, k]\n",
    "    if abs(pixel[0] - last_pixel[0]) \\\n",
    "            + abs(pixel[1] - last_pixel[1]) \\\n",
    "            + abs(pixel[2] - last_pixel[2]) < 10:\n",
    "        print(\"({}, {})\".format(board_x, k))\n",
    "        im.putpixel((board_x, k), DEBUG_COLOR_RED) \n",
    "        break\n",
    "board_y = int((y+k) / 2)\n",
    "\n",
    "# 如果上一跳命中中间，则下个目标中心会出现 r245 g245 b245 的点，利用这个\n",
    "# 属性弥补上一段代码可能存在的判断错误\n",
    "# 若上一跳由于某种原因没有跳到正中间，而下一跳恰好有无法正确识别花纹，则有\n",
    "# 可能游戏失败，由于花纹面积通常比较大，失败概率较低\n",
    "for j in range(i, i+200):\n",
    "    pixel = im_pixel[board_x, j]\n",
    "    if abs(pixel[0] - 245) + abs(pixel[1] - 245) + abs(pixel[2] - 245) == 0:\n",
    "        board_y = j + 10\n",
    "        break\n",
    "\n",
    "print(\"board center: ({}, {})\".format(board_x, board_y))\n",
    "im.putpixel((board_x, board_y), DEBUG_COLOR_RED)        \n",
    "# imshow(np.asarray(im))"
   ]
  },
  {
   "cell_type": "code",
   "execution_count": 5,
   "metadata": {},
   "outputs": [],
   "source": [
    "# im.show()"
   ]
  }
 ],
 "metadata": {
  "kernelspec": {
   "display_name": "Python 3",
   "language": "python",
   "name": "python3"
  },
  "language_info": {
   "codemirror_mode": {
    "name": "ipython",
    "version": 3
   },
   "file_extension": ".py",
   "mimetype": "text/x-python",
   "name": "python",
   "nbconvert_exporter": "python",
   "pygments_lexer": "ipython3",
   "version": "3.5.3"
  }
 },
 "nbformat": 4,
 "nbformat_minor": 2
}
