{
 "cells": [
  {
   "cell_type": "markdown",
   "metadata": {},
   "source": [
    "# 数据模型"
   ]
  },
  {
   "cell_type": "markdown",
   "metadata": {},
   "source": [
    "  "
   ]
  },
  {
   "cell_type": "markdown",
   "metadata": {},
   "source": [
    "### 跟运算符无关的特殊方法"
   ]
  },
  {
   "cell_type": "markdown",
   "metadata": {},
   "source": [
    "| 分类          |  特殊方法 |\n",
    "|--------------|-----------------------------------------------------------------------------------------------------|\n",
    "| 表示形式     | \\_\\_repr\\_\\_, \\_\\_str\\_\\_, \\_\\_format\\_\\_, \\_\\_bytes\\_\\_ |\n",
    "| 数值转换     | \\_\\_abs\\_\\_, \\_\\_bool\\_\\_, \\_\\_complex\\_\\_, \\_\\_int\\_\\_, \\_\\_float\\_\\_, \\_\\_hash\\_\\_, \\_\\_index\\_\\_ |\n",
    "| 集合模拟     | \\_\\_len\\_\\_, \\_\\_getitem\\_\\_, \\_\\_setitem\\_\\_, \\_\\_delitem\\_\\_, \\_\\_contains\\_\\_ |\n",
    "| 迭代枚举     | \\_\\_iter\\_\\_, \\_\\_reversed\\_\\_, \\_\\_next\\_\\_ |\n",
    "| 调用模拟     | \\_\\_call\\_\\_ |\n",
    "| 上下文管理   | \\_\\_enter\\_\\_, \\_\\_exit\\_\\_ |\n",
    "| 实例创建销毁 | \\_\\_new\\_\\_, \\_\\_init\\_\\_, \\_\\_del\\_\\_ |\n",
    "| 属性管理     | \\_\\_getattr\\_\\_, \\_\\_getattribute\\_\\_, \\_\\_setattr\\_\\_, \\_\\_delattr\\_\\_, \\_\\_dir\\_\\_ |\n",
    "| 描述符       | \\_\\_get\\_\\_, \\_\\_set\\_\\_, \\_\\_delete\\_\\_ |\n",
    "| 跟类相关的服务 | \\_\\_prepare\\_\\_, \\_\\_instancecheck\\_\\_, \\_\\_subclasscheck\\_\\_ |"
   ]
  },
  {
   "cell_type": "markdown",
   "metadata": {},
   "source": [
    "### 跟运算符相关的特殊方法"
   ]
  },
  {
   "cell_type": "markdown",
   "metadata": {},
   "source": [
    "| 分类 |  特殊方法 |\n",
    "|------|-----------|\n",
    "| 一元运算 | \\_\\_neg\\_\\_ [-], \\_\\_pos\\_\\_ [+], \\_\\_abs\\_\\_ [abs()] |\n",
    "| 比较运算 | \\_\\_lt\\_\\_, \\_\\_le\\_\\_, \\_\\_eq\\_\\_, \\_\\_ne\\_\\_, \\_\\_gt\\_\\_, \\_\\_ge\\_\\_ |\n",
    "| 算术运算 | \\_\\_add\\_\\_, \\_\\_sub\\_\\_, \\_\\_mul\\_\\_, \\_\\_truediv\\_\\_ [/], \\_\\_floordiv\\_\\_ [//], \\_\\_mod\\_\\_ [%], \\_\\_divmod\\_\\_ [divmod()], \\_\\_pow\\_\\_, \\_\\_round\\_\\_ [round()] |\n",
    "| 反向算术运算 | \\_\\_radd\\_\\_, \\_\\_rsub\\_\\_, \\_\\_rmul\\_\\_, \\_\\_rtruediv\\_\\_, \\_\\_rfloordiv\\_\\_, \\_\\_rmod\\_\\_, \\_\\_rdivmod\\_\\_ |\n",
    "| 增量赋值 | \\_\\_iadd\\_\\_, \\_\\_isub\\_\\_, \\_\\_imul\\_\\_, \\_\\_itruediv\\_\\_, \\_\\_ifloordiv\\_\\_, \\_\\_imod\\_\\_, \\_\\_ipow\\_\\_ |\n",
    "| 位运算 | \\_\\_invert\\_\\_ [~], \\_\\_lshift\\_\\_ [<<], \\_\\_rshift\\_\\_ [>>], \\_\\_and\\_\\_ [&], \\_\\_or\\_\\_ [&#124;], \\_\\_xor\\_\\_ [^] |\n",
    "| 反向位运算 | \\_\\_rlshift\\_\\_, \\_\\_rrshift\\_\\_, \\_\\_rand\\_\\_, \\_\\_rxor\\_\\_, \\_\\_ror\\_\\_ |\n",
    "| 增量赋值位运算 | \\_\\_ilshift\\_\\_, \\_\\_irshift\\_\\_, \\_\\_iand\\_\\_, \\_\\_ixor\\_\\_, \\_\\_ior\\_\\_ |"
   ]
  }
 ],
 "metadata": {
  "kernelspec": {
   "display_name": "Python 3",
   "language": "python",
   "name": "python3"
  },
  "language_info": {
   "codemirror_mode": {
    "name": "ipython",
    "version": 3
   },
   "file_extension": ".py",
   "mimetype": "text/x-python",
   "name": "python",
   "nbconvert_exporter": "python",
   "pygments_lexer": "ipython3",
   "version": "3.5.3"
  }
 },
 "nbformat": 4,
 "nbformat_minor": 2
}
