{
 "cells": [
  {
   "cell_type": "markdown",
   "metadata": {},
   "source": [
    "# 并发\n",
    "\n",
    "## 全局解释锁 (GIL)\n",
    "\n",
    "CPython 解释器本身不是线程安全的，因此有全局解释器锁 (GIL) ，一次只允许使用一个线程执行 Python 字节码。因此，一个 Python 进程不能同时使用多个 CPU 。\n",
    "\n",
    "### I/O 密集型操作\n",
    "\n",
    "标准库中所有执行阻塞型 I/O 操作的函数，在等待操作系统返回结果时都会释放 GIL 。这意味着在 Python 语言这个层次上可以使用多线程，I/O  密集型的程序能从中受益。(`time.sleep()` 函数也会释放 GIL)\n",
    "\n",
    "### CPU 密集型操作\n",
    "\n",
    "使用 ProcessPoolExecutor 类把工作分配给多个进程处理可以实现真正的并行运算。因此，如果需要做 CPU 密集型处理，可以使用它绕开 GIL ，从而利用所有可用的 CPU 。(多个 Python 进程有各自独立的 GIL 锁，互不影响)\n",
    "\n",
    "## concurrent.futures 模块\n",
    "\n",
    "concurrent.futures 模块的主要特色是 ThreadPoolExecutor 和 ProcessPoolExecutor 类，这两个类实现的接口能分别在不同的线程或进程中执行可调用的对象。\n",
    "\n",
    "通常情况下 future 对象不应由用户创建，而是由并发框架 (concurrent.futures 或 asyncio) 来实例化。\n",
    "\n",
    "### `Executor.map(func, *iterables, timeout=None, chunksize=1)`\n",
    "\n",
    "chunksize 只对 ProcessPoolExecutor 有用，用于切分 iterables ，提高运行效率。因为 future 结果的返回涉及到 IPC ，如果每个进程每次消耗 iterables 中的一个数据，整个过程涉及多个 IPC ，这样效率不高；但如果对 iterables 进行切分，N 个 数据同时交给一个进程进行处理，运算结果通过一个 IPC 一并返回，这样就可以提升效率。\n",
    "\n",
    "返回值是一个迭代器，**迭代器的 `__next__` 方法调用各个 future 对象的 `result` 方法，得到各个 future 的结果。**\n"
   ]
  },
  {
   "cell_type": "code",
   "execution_count": 1,
   "metadata": {},
   "outputs": [
    {
     "name": "stdout",
     "output_type": "stream",
     "text": [
      "time consumed0:  0.0010149478912353516\n",
      "<generator object Executor.map.<locals>.result_iterator at 0x10f98cf68>\n",
      "[6, 4, 2]\n",
      "time consumed1:  3.002984046936035\n"
     ]
    }
   ],
   "source": [
    "from concurrent.futures import ThreadPoolExecutor\n",
    "import time\n",
    "\n",
    "def sleep_and_double(value):\n",
    "    time.sleep(value)\n",
    "    return value * 2\n",
    "\n",
    "with ThreadPoolExecutor(max_workers=4) as executor:\n",
    "    time0 =time.time()\n",
    "    values = executor.map(sleep_and_double, [3, 2, 1])\n",
    "    time_delta = time.time() - time0\n",
    "    print(\"time consumed0: \", time_delta)\n",
    "    print(values)\n",
    "    time0 =time.time()\n",
    "    print([v for v in values])\n",
    "    time_delta = time.time() - time0\n",
    "    print(\"time consumed1: \", time_delta)"
   ]
  },
  {
   "cell_type": "markdown",
   "metadata": {},
   "source": [
    "### `Executor.sumit(fn, *args, **kwargs)`"
   ]
  },
  {
   "cell_type": "code",
   "execution_count": 2,
   "metadata": {},
   "outputs": [
    {
     "name": "stdout",
     "output_type": "stream",
     "text": [
      "time consumed0:  0.0003349781036376953\n",
      "6\n",
      "time consumed1:  3.004554033279419\n"
     ]
    }
   ],
   "source": [
    "with ThreadPoolExecutor(max_workers=1) as executor:\n",
    "    time0 = time.time()\n",
    "    future = executor.submit(sleep_and_double, 3)\n",
    "    time_delta = time.time() - time0\n",
    "    print(\"time consumed0: \", time_delta)\n",
    "    time0 = time.time()\n",
    "    print(future.result())\n",
    "    time_delta = time.time() - time0\n",
    "    print(\"time consumed1: \", time_delta)"
   ]
  },
  {
   "cell_type": "markdown",
   "metadata": {},
   "source": [
    "### `concurrent.futures.as_completed(fs, timeout=None)`"
   ]
  },
  {
   "cell_type": "code",
   "execution_count": 3,
   "metadata": {},
   "outputs": [
    {
     "name": "stdout",
     "output_type": "stream",
     "text": [
      "time consumed0:  1.0013580322265625e-05\n",
      "[2, 4, 6, 8, 10]\n",
      "time consumed1:  5.003941059112549\n"
     ]
    }
   ],
   "source": [
    "from concurrent import futures\n",
    "fs = []\n",
    "\n",
    "with ThreadPoolExecutor(max_workers=5) as executor:\n",
    "    for i in [5, 4, 3, 2, 1]:\n",
    "        f = executor.submit(sleep_and_double, i)\n",
    "        fs.append(f)\n",
    "    time0 = time.time()\n",
    "    finishes = futures.as_completed(fs)\n",
    "    time_delta = time.time() - time0\n",
    "    print(\"time consumed0: \", time_delta)\n",
    "    time0 = time.time()\n",
    "    print([f.result() for f in finishes])\n",
    "    time_delta = time.time() - time0\n",
    "    print(\"time consumed1: \", time_delta)"
   ]
  },
  {
   "cell_type": "code",
   "execution_count": null,
   "metadata": {},
   "outputs": [],
   "source": []
  }
 ],
 "metadata": {
  "kernelspec": {
   "display_name": "Python 3",
   "language": "python",
   "name": "python3"
  },
  "language_info": {
   "codemirror_mode": {
    "name": "ipython",
    "version": 3
   },
   "file_extension": ".py",
   "mimetype": "text/x-python",
   "name": "python",
   "nbconvert_exporter": "python",
   "pygments_lexer": "ipython3",
   "version": "3.5.3"
  }
 },
 "nbformat": 4,
 "nbformat_minor": 2
}
