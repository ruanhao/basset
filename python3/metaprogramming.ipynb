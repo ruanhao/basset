{
 "cells": [
  {
   "cell_type": "markdown",
   "metadata": {},
   "source": [
    "# 元编程\n",
    "\n",
    "## `__new__`\n",
    "\n",
    "我们通常把 `__init__` 称为构造方法，其实，用于构建实例的是特殊方法 `__new__` ：这是个类方法，由于使用了特殊方式处理，因此不必使用 @classmethod 装饰器，该方法必须返回一个实例。返回的实例会作为第一个参数 (即 self) 传给 `__init__` 方法。\n",
    "\n",
    "<b style=\"color: red\">注意：</b>`__new__` 方法也可以返回其他类的实例，此时，解释器不会调用 `__init__` 方法。\n",
    "\n",
    "Python 构建对象的过程可以用下述伪代码概括："
   ]
  },
  {
   "cell_type": "code",
   "execution_count": 1,
   "metadata": {},
   "outputs": [],
   "source": [
    "def object_maker(the_class, some_arg):\n",
    "    new_object = the_class.__new__(some_arg)\n",
    "    if isinstance(new_object, the_class):\n",
    "        the_class.__init__(new_object, some_arg)\n",
    "    return new_object\n",
    "\n",
    "# 下述两个语句作用等效\n",
    "# x = Foo('bar')\n",
    "# x = object_maker(Foo, 'bar')"
   ]
  },
  {
   "cell_type": "markdown",
   "metadata": {},
   "source": [
    "在 `__new__` 方法中调用 `super().__new__(cls)` 会调用 `object.__new__(cls)` ，而 object 类构建的实例其实是 cls 实例，即实例的 `__class__` 属性存储的是 cls 类的引用。(真正的构建操作由解释器调用 C 语言实现的 `object.__new__` 方法执行)"
   ]
  }
 ],
 "metadata": {
  "kernelspec": {
   "display_name": "Python 3",
   "language": "python",
   "name": "python3"
  },
  "language_info": {
   "codemirror_mode": {
    "name": "ipython",
    "version": 3
   },
   "file_extension": ".py",
   "mimetype": "text/x-python",
   "name": "python",
   "nbconvert_exporter": "python",
   "pygments_lexer": "ipython3",
   "version": "3.5.1"
  }
 },
 "nbformat": 4,
 "nbformat_minor": 2
}
