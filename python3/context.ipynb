{
 "cells": [
  {
   "cell_type": "markdown",
   "metadata": {},
   "source": [
    "# 上下文管理\n",
    "\n",
    "## `for/else`, `while/else`, `try/else`\n",
    "\n",
    "在所有情况下，如果因为异常或者 return，break 或 continue 语句导致控制权跳到了块之外，else 子句也会被跳过。\n",
    "\n",
    "### 1. `for/else`\n",
    "\n",
    "仅当 for 循环运行完毕时 (即 for 循环没有被 break 语句中止) 才运行 else 块。\n",
    "\n",
    "### 2. `while/else`\n",
    "\n",
    "仅当 while 循环因为条件为假值而退出时 (即 while 循环没有被 break 语句中止) 才运行 else 块。\n",
    "\n",
    "### 3. `try/else`\n",
    "\n",
    "仅当 try 块中没有异常抛出时才运行 else 块，**else 子句抛出的异常不会由前面的 except 子句处理** 。"
   ]
  },
  {
   "cell_type": "markdown",
   "metadata": {},
   "source": [
    "## With\n",
    "\n",
    "with 语句的目的是简化 `try/finally` 模式。\n",
    "\n",
    "上下文管理器协议包含 `__enter__` 和 `__exit__` 两个方法。with 语句开始运行时，会在上下文管理器对象上调用 `__enter__` 方法。 with 语句运行结束后，会在上下文管理器对象上调用 `__exit__` 方法，以此扮演 finally 子句的角色。\n",
    "\n",
    "`__exit__` 方法如果返回 True 之外的值 (包括 None) ，则 with 块中的任何异常都会向上冒泡。如果返回 True ，即告诉解释器，异常已经处理了。\n",
    "\n",
    "### contextlib 模块中的实用工具\n",
    "\n",
    "#### closing\n",
    "\n",
    "如果对象提供了 `close()` 方法，但没有实现 `__enter__/__exit__` 协议，则可以用这个函数构建上下文管理器。"
   ]
  },
  {
   "cell_type": "code",
   "execution_count": 1,
   "metadata": {
    "scrolled": true
   },
   "outputs": [
    {
     "name": "stdout",
     "output_type": "stream",
     "text": [
      "door opened\n",
      "door closed\n"
     ]
    }
   ],
   "source": [
    "from contextlib import closing\n",
    "\n",
    "class Door:\n",
    "    \n",
    "    def open(self):\n",
    "        print(\"door opened\")\n",
    "        \n",
    "    def close(self):\n",
    "        print(\"door closed\")\n",
    "        \n",
    "with closing(Door()) as door:\n",
    "    door.open()"
   ]
  },
  {
   "cell_type": "markdown",
   "metadata": {},
   "source": [
    "#### suppress\n",
    "\n",
    "构建忽略指定异常的上下文管理器。"
   ]
  },
  {
   "cell_type": "code",
   "execution_count": 2,
   "metadata": {},
   "outputs": [],
   "source": [
    "from contextlib import suppress\n",
    "import os\n",
    "\n",
    "with suppress(FileNotFoundError):\n",
    "    os.remove('somefile.tmp')"
   ]
  },
  {
   "cell_type": "markdown",
   "metadata": {},
   "source": [
    "#### @contextmanager\n",
    "\n",
    "这个装饰器把简单的生成器函数变成上下文管理器，这样就不用创建类去实现管理器协议了。\n",
    "\n",
    "在使用 @contextmanager 装饰的生成器中，yield 语句的作用是把函数的定义体分成两部分：yield 语句前面的所有代码在 with 块开始时 (即解释器调用 `__enter__` 方法时) 执行，yield 语句后面的代码在 with 块结束时 (即调用 `__exit__` 方法时) 执行。"
   ]
  },
  {
   "cell_type": "code",
   "execution_count": 3,
   "metadata": {},
   "outputs": [
    {
     "name": "stdout",
     "output_type": "stream",
     "text": [
      "Begin\n",
      "Query info about Bob...\n",
      "End\n"
     ]
    }
   ],
   "source": [
    "from contextlib import contextmanager\n",
    "\n",
    "class Query(object):\n",
    "        \n",
    "    def __init__(self, name):\n",
    "        self.name = name\n",
    "        \n",
    "    def query(self):\n",
    "        print('Query info about %s...' % self.name)\n",
    "\n",
    "@contextmanager\n",
    "def create_query(name):\n",
    "    print('Begin')\n",
    "    with suppress(Exception):\n",
    "        yield Query(name)  # 需要使用 as\n",
    "    print('End')\n",
    "\n",
    "with create_query('Bob') as q:\n",
    "    q.query()"
   ]
  },
  {
   "cell_type": "code",
   "execution_count": 4,
   "metadata": {},
   "outputs": [
    {
     "name": "stdout",
     "output_type": "stream",
     "text": [
      "<h1>hello</h1>\n"
     ]
    }
   ],
   "source": [
    "@contextmanager\n",
    "def tag(name):\n",
    "    print(\"<%s>\" % name, end='')\n",
    "    with suppress(Exception):\n",
    "        yield  # 无需使用 as\n",
    "    print(\"</%s>\" % name)\n",
    "\n",
    "with tag(\"h1\"):\n",
    "    print(\"hello\", end='')"
   ]
  },
  {
   "cell_type": "markdown",
   "metadata": {},
   "source": [
    "其实说白了，`contextlib.contextmanager` 装饰器会把函数包装成实现了 `__enter__` 和 `__exit__` 方法的类 (类的名称是 _GeneraorContextManager) 。这个类的 `__enter__` 方法有如下作用：\n",
    "\n",
    "- 调用生成器函数，保存生成器对象 (这里把它成为 gen)\n",
    "- 调用 `next(gen)` ，执行到 yield 关键字所在位置\n",
    "- 返回上一步 `next(gen)` 产出的值，以便把产出的值绑定到 with/as 语句中的目标变量上\n",
    "\n",
    "with 块终止时，`__exit__` 方法会做以下几件事：\n",
    "\n",
    "- 检查有没有异常，如果有，调用 `gen.throw(ex)` ，在生成器函数定义体中包含 yield 关键字的那一行抛出异常\n",
    "- 否则，调用 `next(gen)` ，继续执行生成器函数定义体中 yield 语句之后的代码\n",
    "\n",
    "<b style=\"color: red\">注意</b>：\n",
    "\n",
    "如果在 with 块中抛出了异常，Python 解释器会将其捕获，然后会在生成器函数中 yield 表达式处再次抛出。因此使用 @contextmanager 装饰器时，要把 yield 语句放在 try/finally 语句中 (或者放在 with 语句中) ，这是无法避免的，因为我们永远不知道使用上下文管理器的用户会在 with 块中做什么。\n",
    "\n",
    "另外，@contextmanager 装饰器提供的 `__exit__` 方法假定发给生成器的所有异常都得到处理了，因此应该压制异常。如果不想让 @contextmanager 压制异常，必须在被装饰的函数中显示重新抛出异常。"
   ]
  },
  {
   "cell_type": "code",
   "execution_count": null,
   "metadata": {},
   "outputs": [],
   "source": []
  }
 ],
 "metadata": {
  "kernelspec": {
   "display_name": "Python 3",
   "language": "python",
   "name": "python3"
  },
  "language_info": {
   "codemirror_mode": {
    "name": "ipython",
    "version": 3
   },
   "file_extension": ".py",
   "mimetype": "text/x-python",
   "name": "python",
   "nbconvert_exporter": "python",
   "pygments_lexer": "ipython3",
   "version": "3.5.3"
  }
 },
 "nbformat": 4,
 "nbformat_minor": 2
}
