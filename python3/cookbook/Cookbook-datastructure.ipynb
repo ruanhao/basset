{
 "cells": [
  {
   "cell_type": "markdown",
   "metadata": {},
   "source": [
    "# 数据结构\n",
    "\n",
    "## 列表中出现频率最高"
   ]
  },
  {
   "cell_type": "code",
   "execution_count": 1,
   "metadata": {},
   "outputs": [
    {
     "data": {
      "text/plain": [
       "[('eyes', 8), ('the', 5), ('look', 4)]"
      ]
     },
     "execution_count": 1,
     "metadata": {},
     "output_type": "execute_result"
    }
   ],
   "source": [
    "words = [\n",
    "   'look', 'into', 'my', 'eyes', 'look', 'into', 'my', 'eyes',\n",
    "   'the', 'eyes', 'the', 'eyes', 'the', 'eyes', 'not', 'around', 'the',\n",
    "   'eyes', \"don't\", 'look', 'around', 'the', 'eyes', 'look', 'into',\n",
    "   'my', 'eyes', \"you're\", 'under'\n",
    "]\n",
    "\n",
    "from collections import Counter\n",
    "word_counts = Counter(words)\n",
    "top_three = word_counts.most_common(3)\n",
    "top_three"
   ]
  },
  {
   "cell_type": "markdown",
   "metadata": {},
   "source": [
    "## 列表中最大或最小的几项"
   ]
  },
  {
   "cell_type": "code",
   "execution_count": 2,
   "metadata": {},
   "outputs": [
    {
     "data": {
      "text/plain": [
       "{'cheap': [{'name': 'YHOO', 'price': 16.35, 'shares': 45},\n",
       "  {'name': 'FB', 'price': 21.09, 'shares': 200},\n",
       "  {'name': 'HPQ', 'price': 31.75, 'shares': 35}],\n",
       " 'expensive': [{'name': 'AAPL', 'price': 543.22, 'shares': 50},\n",
       "  {'name': 'ACME', 'price': 115.65, 'shares': 75},\n",
       "  {'name': 'IBM', 'price': 91.1, 'shares': 100}]}"
      ]
     },
     "execution_count": 2,
     "metadata": {},
     "output_type": "execute_result"
    }
   ],
   "source": [
    "import heapq\n",
    "\n",
    "portfolio = [\n",
    "   {'name': 'IBM', 'shares': 100, 'price': 91.1},\n",
    "   {'name': 'AAPL', 'shares': 50, 'price': 543.22},\n",
    "   {'name': 'FB', 'shares': 200, 'price': 21.09},\n",
    "   {'name': 'HPQ', 'shares': 35, 'price': 31.75},\n",
    "   {'name': 'YHOO', 'shares': 45, 'price': 16.35},\n",
    "   {'name': 'ACME', 'shares': 75, 'price': 115.65}\n",
    "]\n",
    "\n",
    "cheap = heapq.nsmallest(3, portfolio, key=lambda s: s['price'])\n",
    "expensive = heapq.nlargest(3, portfolio, key=lambda s: s['price'])\n",
    "{'cheap': cheap, 'expensive': expensive}"
   ]
  },
  {
   "cell_type": "markdown",
   "metadata": {},
   "source": [
    "## 对字典作集合运算"
   ]
  },
  {
   "cell_type": "code",
   "execution_count": 3,
   "metadata": {},
   "outputs": [
    {
     "name": "stdout",
     "output_type": "stream",
     "text": [
      "Common keys: {'y', 'x'}\n",
      "Keys in a not in b: {'z'}\n",
      "(key,value) pairs in common: {('y', 2)}\n"
     ]
    }
   ],
   "source": [
    "a = {\n",
    "   'x' : 1,\n",
    "   'y' : 2,\n",
    "   'z' : 3\n",
    "}\n",
    "\n",
    "b = {\n",
    "   'w' : 10,\n",
    "   'x' : 11,\n",
    "   'y' : 2\n",
    "}\n",
    "\n",
    "print('Common keys:', a.keys() & b.keys())\n",
    "print('Keys in a not in b:', a.keys() - b.keys())\n",
    "print('(key,value) pairs in common:', a.items() & b.items())"
   ]
  },
  {
   "cell_type": "markdown",
   "metadata": {},
   "source": [
    "## 对列表中的数据分组"
   ]
  },
  {
   "cell_type": "code",
   "execution_count": 4,
   "metadata": {},
   "outputs": [
    {
     "name": "stdout",
     "output_type": "stream",
     "text": [
      "07/01/2012\n",
      "     {'date': '07/01/2012', 'address': '5412 N CLARK'}\n",
      "     {'date': '07/01/2012', 'address': '4801 N BROADWAY'}\n",
      "07/02/2012\n",
      "     {'date': '07/02/2012', 'address': '5800 E 58TH'}\n",
      "     {'date': '07/02/2012', 'address': '5645 N RAVENSWOOD'}\n",
      "     {'date': '07/02/2012', 'address': '1060 W ADDISON'}\n",
      "07/03/2012\n",
      "     {'date': '07/03/2012', 'address': '2122 N CLARK'}\n",
      "07/04/2012\n",
      "     {'date': '07/04/2012', 'address': '5148 N CLARK'}\n",
      "     {'date': '07/04/2012', 'address': '1039 W GRANVILLE'}\n"
     ]
    }
   ],
   "source": [
    "rows = [\n",
    "    {'address': '5412 N CLARK', 'date': '07/01/2012'},\n",
    "    {'address': '5148 N CLARK', 'date': '07/04/2012'},\n",
    "    {'address': '5800 E 58TH', 'date': '07/02/2012'},\n",
    "    {'address': '2122 N CLARK', 'date': '07/03/2012'},\n",
    "    {'address': '5645 N RAVENSWOOD', 'date': '07/02/2012'},\n",
    "    {'address': '1060 W ADDISON', 'date': '07/02/2012'},\n",
    "    {'address': '4801 N BROADWAY', 'date': '07/01/2012'},\n",
    "    {'address': '1039 W GRANVILLE', 'date': '07/04/2012'},\n",
    "]\n",
    "\n",
    "from itertools import groupby\n",
    "\n",
    "rows.sort(key=lambda r: r['date'])\n",
    "for date, items in groupby(rows, key=lambda r: r['date']):\n",
    "    print(date)\n",
    "    for i in items:\n",
    "        print('    ', i)"
   ]
  },
  {
   "cell_type": "markdown",
   "metadata": {},
   "source": [
    "或者使用 defaultdict 来实现："
   ]
  },
  {
   "cell_type": "code",
   "execution_count": 5,
   "metadata": {},
   "outputs": [
    {
     "data": {
      "text/plain": [
       "defaultdict(list,\n",
       "            {'07/01/2012': [{'address': '5412 N CLARK', 'date': '07/01/2012'},\n",
       "              {'address': '4801 N BROADWAY', 'date': '07/01/2012'}],\n",
       "             '07/02/2012': [{'address': '5800 E 58TH', 'date': '07/02/2012'},\n",
       "              {'address': '5645 N RAVENSWOOD', 'date': '07/02/2012'},\n",
       "              {'address': '1060 W ADDISON', 'date': '07/02/2012'}],\n",
       "             '07/03/2012': [{'address': '2122 N CLARK', 'date': '07/03/2012'}],\n",
       "             '07/04/2012': [{'address': '5148 N CLARK', 'date': '07/04/2012'},\n",
       "              {'address': '1039 W GRANVILLE', 'date': '07/04/2012'}]})"
      ]
     },
     "execution_count": 5,
     "metadata": {},
     "output_type": "execute_result"
    }
   ],
   "source": [
    "from collections import defaultdict\n",
    "rows_by_date = defaultdict(list)\n",
    "for row in rows:\n",
    "    rows_by_date[row['date']].append(row)\n",
    "rows_by_date"
   ]
  },
  {
   "cell_type": "markdown",
   "metadata": {},
   "source": [
    "## 优先队列"
   ]
  },
  {
   "cell_type": "code",
   "execution_count": 6,
   "metadata": {},
   "outputs": [
    {
     "name": "stdout",
     "output_type": "stream",
     "text": [
      "Should be bar: Item('bar')\n",
      "Should be spam: Item('spam')\n",
      "Should be foo: Item('foo')\n",
      "Should be grok: Item('grok')\n"
     ]
    }
   ],
   "source": [
    "import heapq\n",
    "\n",
    "class PriorityQueue:\n",
    "    def __init__(self):\n",
    "        self._queue = []\n",
    "        self._index = 0\n",
    "\n",
    "    def push(self, item, priority):\n",
    "        heapq.heappush(self._queue, (-priority, self._index, item))\n",
    "        self._index += 1\n",
    "\n",
    "    def pop(self):\n",
    "        return heapq.heappop(self._queue)[-1]\n",
    "\n",
    "# Example use\n",
    "class Item:\n",
    "    def __init__(self, name):\n",
    "        self.name = name\n",
    "    def __repr__(self):\n",
    "        return 'Item({!r})'.format(self.name)\n",
    "\n",
    "q = PriorityQueue()\n",
    "q.push(Item('foo'), 1)\n",
    "q.push(Item('bar'), 5)\n",
    "q.push(Item('spam'), 4)\n",
    "q.push(Item('grok'), 1)\n",
    "\n",
    "print(\"Should be bar:\", q.pop())\n",
    "print(\"Should be spam:\", q.pop())\n",
    "print(\"Should be foo:\", q.pop())\n",
    "print(\"Should be grok:\", q.pop())"
   ]
  },
  {
   "cell_type": "markdown",
   "metadata": {},
   "source": [
    "## 消除序列中的重复数据，同时保持数据顺序"
   ]
  },
  {
   "cell_type": "code",
   "execution_count": 7,
   "metadata": {},
   "outputs": [
    {
     "name": "stdout",
     "output_type": "stream",
     "text": [
      "[{'y': 3, 'x': 2}, {'y': 4, 'x': 1}, {'y': 15, 'x': 10}]\n"
     ]
    }
   ],
   "source": [
    "def dedupe(items, key=None):\n",
    "    seen = set()\n",
    "    for item in items:\n",
    "        val = item if key is None else key(item)\n",
    "        if val not in seen:\n",
    "            yield item\n",
    "            seen.add(val)\n",
    "\n",
    "\n",
    "a = [ \n",
    "        {'x': 2, 'y': 3},\n",
    "        {'x': 1, 'y': 4},\n",
    "        {'x': 2, 'y': 3},\n",
    "        {'x': 2, 'y': 3},\n",
    "        {'x': 10, 'y': 15}\n",
    "    ]\n",
    "print(list(dedupe(a, key=lambda a: (a['x'],a['y']))))"
   ]
  },
  {
   "cell_type": "code",
   "execution_count": 8,
   "metadata": {},
   "outputs": [
    {
     "name": "stdout",
     "output_type": "stream",
     "text": [
      "[1, 5, 2, 9, 10]\n"
     ]
    }
   ],
   "source": [
    "def dedupe(items):\n",
    "    seen = set()\n",
    "    for item in items:\n",
    "        if item not in seen:\n",
    "            yield item\n",
    "            seen.add(item)\n",
    "\n",
    "a = [1, 5, 2, 1, 9, 1, 5, 10]\n",
    "print(list(dedupe(a)))"
   ]
  },
  {
   "cell_type": "markdown",
   "metadata": {},
   "source": [
    "## 序列解包 (unpack)"
   ]
  },
  {
   "cell_type": "code",
   "execution_count": 9,
   "metadata": {},
   "outputs": [
    {
     "name": "stdout",
     "output_type": "stream",
     "text": [
      "foo 1 2\n",
      "bar hello\n",
      "foo 3 4\n"
     ]
    }
   ],
   "source": [
    "records = [\n",
    "     ('foo', 1, 2),\n",
    "     ('bar', 'hello'),\n",
    "     ('foo', 3, 4),\n",
    "]\n",
    "\n",
    "def do_foo(x,y):\n",
    "    print('foo', x, y)\n",
    "\n",
    "def do_bar(s):\n",
    "    print('bar', s)\n",
    "\n",
    "for tag, *args in records:\n",
    "    if tag == 'foo':\n",
    "        do_foo(*args)\n",
    "    elif tag == 'bar':\n",
    "        do_bar(*args)"
   ]
  },
  {
   "cell_type": "markdown",
   "metadata": {},
   "source": [
    "## 组合多个字典当作一个字典使用"
   ]
  },
  {
   "cell_type": "code",
   "execution_count": 10,
   "metadata": {},
   "outputs": [
    {
     "name": "stdout",
     "output_type": "stream",
     "text": [
      "c: ChainMap({'z': 3, 'x': 1}, {'y': 2, 'z': 4})\n",
      "1\n",
      "2\n",
      "3\n",
      "len(c): 3\n",
      "c.keys(): ['z', 'y', 'x']\n",
      "c.values(): [3, 2, 1]\n",
      "a: {'z': 10, 'w': 40}\n"
     ]
    }
   ],
   "source": [
    "a = {'x': 1, 'z': 3 }\n",
    "b = {'y': 2, 'z': 4 }\n",
    "\n",
    "# (a) Simple example of combining\n",
    "from collections import ChainMap\n",
    "c = ChainMap(a,b)\n",
    "\n",
    "print(\"c:\", c)\n",
    "\n",
    "print(c['x'])      # Outputs 1  (from a)\n",
    "print(c['y'])      # Outputs 2  (from b)\n",
    "print(c['z'])      # Outputs 3  (from a)\n",
    "\n",
    "# Output some common values\n",
    "print('len(c):', len(c))\n",
    "print('c.keys():', list(c.keys()))\n",
    "print('c.values():', list(c.values()))\n",
    "\n",
    "# Modify some values\n",
    "c['z'] = 10\n",
    "c['w'] = 40\n",
    "del c['x']\n",
    "print(\"a:\", a)"
   ]
  },
  {
   "cell_type": "markdown",
   "metadata": {},
   "source": [
    "## 字典栈"
   ]
  },
  {
   "cell_type": "code",
   "execution_count": 11,
   "metadata": {},
   "outputs": [
    {
     "name": "stdout",
     "output_type": "stream",
     "text": [
      "ChainMap({'x': 3}, {'x': 2}, {'x': 1})\n",
      "3\n",
      "ChainMap({'x': 2}, {'x': 1})\n",
      "2\n",
      "ChainMap({'x': 1})\n",
      "1\n"
     ]
    }
   ],
   "source": [
    "# Example of stacking mappings (like scopes)\n",
    "values = ChainMap()\n",
    "values['x'] = 1\n",
    "\n",
    "# Add a new mapping\n",
    "values = values.new_child()\n",
    "values['x'] = 2\n",
    "\n",
    "# Add a new mapping\n",
    "values = values.new_child()\n",
    "values['x'] = 3\n",
    "\n",
    "print(values)\n",
    "print(values['x'])\n",
    "\n",
    "# Discard last mapping\n",
    "values = values.parents\n",
    "print(values)\n",
    "print(values['x'])\n",
    "\n",
    "# Discard last mapping\n",
    "values = values.parents\n",
    "print(values)\n",
    "print(values['x'])"
   ]
  },
  {
   "cell_type": "markdown",
   "metadata": {},
   "source": [
    "## flatten 列表"
   ]
  },
  {
   "cell_type": "code",
   "execution_count": 12,
   "metadata": {},
   "outputs": [
    {
     "name": "stdout",
     "output_type": "stream",
     "text": [
      "1\n",
      "2\n",
      "3\n",
      "4\n",
      "5\n",
      "6\n",
      "7\n",
      "8\n",
      "Dave\n",
      "Paula\n",
      "Thomas\n",
      "Lewis\n"
     ]
    }
   ],
   "source": [
    "from collections import Iterable\n",
    "\n",
    "def flatten(items, ignore_types=(str, bytes)):\n",
    "    for x in items:\n",
    "        if isinstance(x, Iterable) and not isinstance(x, ignore_types):\n",
    "            yield from flatten(x)\n",
    "        else:\n",
    "            yield x\n",
    "\n",
    "items = [1, 2, [3, 4, [5, 6], 7], 8]\n",
    "\n",
    "# Produces 1 2 3 4 5 6 7 8\n",
    "for x in flatten(items):\n",
    "    print(x)\n",
    "\n",
    "items = ['Dave', 'Paula', ['Thomas', 'Lewis']]\n",
    "for x in flatten(items):\n",
    "    print(x)\n"
   ]
  },
  {
   "cell_type": "code",
   "execution_count": null,
   "metadata": {},
   "outputs": [],
   "source": []
  }
 ],
 "metadata": {
  "kernelspec": {
   "display_name": "Python 3",
   "language": "python",
   "name": "python3"
  },
  "language_info": {
   "codemirror_mode": {
    "name": "ipython",
    "version": 3
   },
   "file_extension": ".py",
   "mimetype": "text/x-python",
   "name": "python",
   "nbconvert_exporter": "python",
   "pygments_lexer": "ipython3",
   "version": "3.5.3"
  }
 },
 "nbformat": 4,
 "nbformat_minor": 2
}
