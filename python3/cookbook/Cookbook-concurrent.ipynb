{
 "cells": [
  {
   "cell_type": "markdown",
   "metadata": {},
   "source": [
    "# 进程与多线程\n",
    "\n",
    "## 创建子进程"
   ]
  },
  {
   "cell_type": "code",
   "execution_count": 1,
   "metadata": {},
   "outputs": [
    {
     "name": "stdout",
     "output_type": "stream",
     "text": [
      "Parent process 79544.\n",
      "Child process will start.\n",
      "Run child process test (79553)...\n",
      "Child process end.\n"
     ]
    }
   ],
   "source": [
    "from multiprocessing import Process\n",
    "import os\n",
    "\n",
    "def run_proc(name):\n",
    "    print('Run child process %s (%s)...' % (name, os.getpid()))\n",
    "\n",
    "if __name__=='__main__':\n",
    "    print('Parent process %s.' % os.getpid())\n",
    "    p = Process(target=run_proc, args=('test',))\n",
    "    print('Child process will start.')\n",
    "    p.start()\n",
    "    p.join()  # 等待子进程结束后再继续往下运行\n",
    "    print('Child process end.')"
   ]
  },
  {
   "cell_type": "markdown",
   "metadata": {},
   "source": [
    "## 子进程的输入输出"
   ]
  },
  {
   "cell_type": "code",
   "execution_count": 2,
   "metadata": {},
   "outputs": [
    {
     "data": {
      "text/plain": [
       "0"
      ]
     },
     "execution_count": 2,
     "metadata": {},
     "output_type": "execute_result"
    }
   ],
   "source": [
    "import subprocess\n",
    "\n",
    "subprocess.call(['nslookup', 'www.python.org'])"
   ]
  },
  {
   "cell_type": "code",
   "execution_count": 3,
   "metadata": {},
   "outputs": [
    {
     "name": "stdout",
     "output_type": "stream",
     "text": [
      "Server:\t\t64.104.123.245\n",
      "Address:\t64.104.123.245#53\n",
      "\n",
      "Non-authoritative answer:\n",
      "python.org\tmail exchanger = 50 mail.python.org.\n",
      "\n",
      "Authoritative answers can be found from:\n",
      "org\tnameserver = d0.org.afilias-nst.org.\n",
      "org\tnameserver = a2.org.afilias-nst.info.\n",
      "org\tnameserver = c0.org.afilias-nst.info.\n",
      "org\tnameserver = a0.org.afilias-nst.info.\n",
      "org\tnameserver = b2.org.afilias-nst.org.\n",
      "org\tnameserver = b0.org.afilias-nst.org.\n",
      "a0.org.afilias-nst.info\tinternet address = 199.19.56.1\n",
      "a2.org.afilias-nst.info\tinternet address = 199.249.112.1\n",
      "b0.org.afilias-nst.org\tinternet address = 199.19.54.1\n",
      "b2.org.afilias-nst.org\tinternet address = 199.249.120.1\n",
      "c0.org.afilias-nst.info\tinternet address = 199.19.53.1\n",
      "d0.org.afilias-nst.org\tinternet address = 199.19.57.1\n",
      "a0.org.afilias-nst.info\thas AAAA address 2001:500:e::1\n",
      "a2.org.afilias-nst.info\thas AAAA address 2001:500:40::1\n",
      "b0.org.afilias-nst.org\thas AAAA address 2001:500:c::1\n",
      "b2.org.afilias-nst.org\thas AAAA address 2001:500:48::1\n",
      "c0.org.afilias-nst.info\thas AAAA address 2001:500:b::1\n",
      "d0.org.afilias-nst.org\thas AAAA address 2001:500:f::1\n",
      "\n",
      "\n",
      "Exit code: 0\n"
     ]
    }
   ],
   "source": [
    "p = subprocess.Popen(['nslookup'], stdin=subprocess.PIPE, stdout=subprocess.PIPE, stderr=subprocess.PIPE)\n",
    "output, err = p.communicate(b'set q=mx\\npython.org\\nexit\\n')\n",
    "print(output.decode('utf-8'))\n",
    "print('Exit code:', p.returncode)\n",
    "\n",
    "# 相当于在命令行执行命令nslookup，然后手动输入：\n",
    "# set q=mx\n",
    "# python.org\n",
    "# exit"
   ]
  },
  {
   "cell_type": "markdown",
   "metadata": {},
   "source": [
    "## 进程间通信\n",
    "\n",
    "父进程中创建两个子进程，一个往 Queue 里写数据，一个从 Queue 里读数据："
   ]
  },
  {
   "cell_type": "code",
   "execution_count": 4,
   "metadata": {},
   "outputs": [
    {
     "name": "stdout",
     "output_type": "stream",
     "text": [
      "Process to write: 79556\n",
      "Put A to queue...\n",
      "Process to read: 79557\n",
      "Get A from queue.\n",
      "Put B to queue...\n",
      "Get B from queue.\n",
      "Put C to queue...\n",
      "Get C from queue.\n"
     ]
    }
   ],
   "source": [
    "from multiprocessing import Process, Queue\n",
    "import os, time, random\n",
    "\n",
    "def write(q):\n",
    "    print('Process to write: %s' % os.getpid())\n",
    "    for value in ['A', 'B', 'C']:\n",
    "        print('Put %s to queue...' % value)\n",
    "        q.put(value)\n",
    "        time.sleep(random.random())\n",
    "\n",
    "def read(q):\n",
    "    print('Process to read: %s' % os.getpid())\n",
    "    while True:\n",
    "        value = q.get(True)\n",
    "        print('Get %s from queue.' % value)\n",
    "        \n",
    "q = Queue()\n",
    "pw = Process(target=write, args=(q,))\n",
    "pr = Process(target=read, args=(q,))\n",
    "pw.start()\n",
    "pr.start()\n",
    "pw.join()\n",
    "pr.terminate()  # pr 进程里是死循环，无法等待其结束，只能强行终止:"
   ]
  },
  {
   "cell_type": "markdown",
   "metadata": {},
   "source": [
    "## 创建线程"
   ]
  },
  {
   "cell_type": "code",
   "execution_count": 5,
   "metadata": {},
   "outputs": [
    {
     "name": "stdout",
     "output_type": "stream",
     "text": [
      "thread WorkerThread is running...\n",
      "thread WorkerThread ended.\n"
     ]
    }
   ],
   "source": [
    "import time, threading\n",
    "\n",
    "def worker():\n",
    "    print('thread %s is running...' % threading.current_thread().name)\n",
    "    time.sleep(1)\n",
    "    print('thread %s ended.' % threading.current_thread().name)\n",
    "\n",
    "t = threading.Thread(target=worker, name='WorkerThread')\n",
    "t.start()\n",
    "t.join()"
   ]
  },
  {
   "cell_type": "markdown",
   "metadata": {},
   "source": [
    "## 给线程加锁"
   ]
  },
  {
   "cell_type": "code",
   "execution_count": 8,
   "metadata": {},
   "outputs": [
    {
     "name": "stdout",
     "output_type": "stream",
     "text": [
      "\u001b[31m7\u001b[0m, \u001b[31m1\u001b[0m, \u001b[31m2\u001b[0m, 1, \u001b[31m9\u001b[0m, \u001b[31m3\u001b[0m, \u001b[31m4\u001b[0m, 2, \u001b[31m10\u001b[0m, 3, \u001b[31m5\u001b[0m, 4, \u001b[31m6\u001b[0m, 5, \u001b[31m8\u001b[0m, 6, 7, 8, 9, 10, "
     ]
    }
   ],
   "source": [
    "import threading\n",
    "from concurrent.futures import ThreadPoolExecutor\n",
    "\n",
    "lock = threading.Lock()\n",
    "count = 0\n",
    "\n",
    "def run_thread_without_lock():\n",
    "    global count\n",
    "    while count < 10:\n",
    "        count += 1\n",
    "        print(\"\\x1b[31m%s\\x1b[0m, \" % count, end='')\n",
    "\n",
    "def run_thread_with_lock():\n",
    "    global count\n",
    "    with lock:\n",
    "        while count < 10:\n",
    "            count += 1\n",
    "            print(\"%s, \" % count, end='')\n",
    "        \n",
    "with ThreadPoolExecutor(max_workers=4) as executor:\n",
    "    for i in range(5):\n",
    "        executor.submit(run_thread_without_lock)\n",
    "        \n",
    "count = 0\n",
    "\n",
    "with ThreadPoolExecutor(max_workers=4) as executor:\n",
    "    for i in range(5):\n",
    "        executor.submit(run_thread_with_lock)"
   ]
  },
  {
   "cell_type": "markdown",
   "metadata": {},
   "source": [
    "## thread local 变量\n",
    "\n",
    "一个线程使用自己的局部变量比使用全局变量好，因为局部变量只有线程自己能看见，不会影响其他线程，而全局变量的修改必须加锁。\n",
    "\n",
    "最常用的地方就是为每个线程绑定一个数据库连接，HTTP 请求，用户身份信息等，这样一个线程的所有调用到的处理函数都可以非常方便地访问这些资源。"
   ]
  },
  {
   "cell_type": "code",
   "execution_count": 7,
   "metadata": {},
   "outputs": [
    {
     "name": "stdout",
     "output_type": "stream",
     "text": [
      "in main: world\n",
      "in thread: hello\n"
     ]
    }
   ],
   "source": [
    "import threading, time\n",
    "\n",
    "tl = threading.local()\n",
    "\n",
    "def worker(name):\n",
    "    tl.name = name\n",
    "    time.sleep(3)\n",
    "    print(\"in thread:\", tl.name)\n",
    "    \n",
    "t = threading.Thread(target=worker, args=(\"hello\",), name='Thread-A')\n",
    "t.start()\n",
    "tl.name = 'world'\n",
    "print(\"in main:\", tl.name)"
   ]
  },
  {
   "cell_type": "markdown",
   "metadata": {},
   "source": [
    "## 线程池"
   ]
  },
  {
   "cell_type": "code",
   "execution_count": 3,
   "metadata": {},
   "outputs": [],
   "source": [
    "from concurrent.futures import ThreadPoolExecutor\n",
    "import urllib.request\n",
    "\n",
    "def fetch_url(url):\n",
    "    u = urllib.request.urlopen(url)\n",
    "    data = u.read()\n",
    "    return data\n",
    "\n",
    "pool = ThreadPoolExecutor(10)\n",
    "# Submit work to the pool\n",
    "a = pool.submit(fetch_url, 'http://www.python.org')\n",
    "b = pool.submit(fetch_url, 'http://www.pypy.org')\n",
    "\n",
    "# Get the results back\n",
    "x = a.result()\n",
    "y = b.result()"
   ]
  },
  {
   "cell_type": "code",
   "execution_count": null,
   "metadata": {},
   "outputs": [],
   "source": []
  }
 ],
 "metadata": {
  "kernelspec": {
   "display_name": "Python 3",
   "language": "python",
   "name": "python3"
  },
  "language_info": {
   "codemirror_mode": {
    "name": "ipython",
    "version": 3
   },
   "file_extension": ".py",
   "mimetype": "text/x-python",
   "name": "python",
   "nbconvert_exporter": "python",
   "pygments_lexer": "ipython3",
   "version": "3.5.3"
  }
 },
 "nbformat": 4,
 "nbformat_minor": 2
}
