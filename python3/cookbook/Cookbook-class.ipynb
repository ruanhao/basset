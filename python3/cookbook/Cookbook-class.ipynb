{
 "cells": [
  {
   "cell_type": "markdown",
   "metadata": {},
   "source": [
    "# 类\n",
    "\n",
    "## 不调用 `__init__` 方法来创建实例"
   ]
  },
  {
   "cell_type": "code",
   "execution_count": 1,
   "metadata": {},
   "outputs": [
    {
     "name": "stdout",
     "output_type": "stream",
     "text": [
      "<__main__.Date object at 0x10465a748>\n",
      "False\n",
      "2012\n",
      "8\n",
      "2017 10 29\n"
     ]
    }
   ],
   "source": [
    "from time import localtime\n",
    "\n",
    "class Date:\n",
    "    def __init__(self, year, month, day):\n",
    "        self.year = year\n",
    "        self.month = month\n",
    "        self.day = day\n",
    "\n",
    "    # Class method that bypasses __init__\n",
    "    @classmethod\n",
    "    def today(cls):\n",
    "        d = cls.__new__(cls)\n",
    "        t = localtime()\n",
    "        d.year = t.tm_year\n",
    "        d.month = t.tm_mon\n",
    "        d.day = t.tm_mday\n",
    "        return d\n",
    "\n",
    "d = Date.__new__(Date)\n",
    "print(d)\n",
    "print(hasattr(d,'year'))\n",
    "\n",
    "data = { \n",
    "    'year' : 2012,\n",
    "    'month' : 8,\n",
    "    'day' : 29\n",
    "}\n",
    "\n",
    "d.__dict__.update(data)\n",
    "print(d.year)\n",
    "print(d.month)\n",
    "\n",
    "d = Date.today()\n",
    "print(d.year, d.month, d.day)"
   ]
  },
  {
   "cell_type": "markdown",
   "metadata": {},
   "source": [
    "## 创建缓存对象"
   ]
  },
  {
   "cell_type": "code",
   "execution_count": 2,
   "metadata": {},
   "outputs": [
    {
     "name": "stdout",
     "output_type": "stream",
     "text": [
      "a is b: False\n",
      "a is c: True\n"
     ]
    }
   ],
   "source": [
    "class Spam:\n",
    "    def __init__(self, name):\n",
    "        self.name = name\n",
    "\n",
    "# Caching support\n",
    "import weakref\n",
    "_spam_cache = weakref.WeakValueDictionary()\n",
    "\n",
    "def get_spam(name):\n",
    "    if name not in _spam_cache:\n",
    "        s = Spam(name)\n",
    "        _spam_cache[name] = s\n",
    "    else:\n",
    "        s = _spam_cache[name]\n",
    "    return s\n",
    "\n",
    "if __name__ == '__main__':\n",
    "    a = get_spam('foo')\n",
    "    b = get_spam('bar')\n",
    "    print('a is b:', a is b)\n",
    "    c = get_spam('foo')\n",
    "    print('a is c:', a is c)"
   ]
  },
  {
   "cell_type": "code",
   "execution_count": 3,
   "metadata": {},
   "outputs": [
    {
     "name": "stdout",
     "output_type": "stream",
     "text": [
      "a is b: False\n",
      "a is c: True\n"
     ]
    }
   ],
   "source": [
    "import weakref\n",
    "\n",
    "class CachedSpamManager:\n",
    "    def __init__(self):\n",
    "        self._cache = weakref.WeakValueDictionary()\n",
    "    def get_spam(self, name):\n",
    "        if name not in self._cache:\n",
    "            s = Spam(name)\n",
    "            self._cache[name] = s\n",
    "        else:\n",
    "            s = self._cache[name]\n",
    "        return s\n",
    "      \n",
    "class Spam:\n",
    "    def __init__(self, name):\n",
    "        self.name = name\n",
    "\n",
    "Spam.manager = CachedSpamManager()\n",
    "\n",
    "def get_spam(name):\n",
    "    return Spam.manager.get_spam(name)\n",
    "\n",
    "if __name__ == '__main__':\n",
    "    a = get_spam('foo')\n",
    "    b = get_spam('bar')\n",
    "    print('a is b:', a is b)\n",
    "    c = get_spam('foo')\n",
    "    print('a is c:', a is c)"
   ]
  },
  {
   "cell_type": "code",
   "execution_count": 4,
   "metadata": {},
   "outputs": [
    {
     "name": "stdout",
     "output_type": "stream",
     "text": [
      "This should print 'Initializing Spam' twice\n",
      "Initializing Spam\n",
      "Initializing Spam\n",
      "True\n"
     ]
    }
   ],
   "source": [
    "# Example involving new and some of its problems\n",
    "\n",
    "import weakref\n",
    "\n",
    "class Spam:\n",
    "    _spam_cache = weakref.WeakValueDictionary()\n",
    "    def __new__(cls, name):\n",
    "        if name in cls._spam_cache:\n",
    "            return cls._spam_cache[name]\n",
    "        else:\n",
    "            self = super().__new__(cls)\n",
    "            cls._spam_cache[name] = self\n",
    "            return self\n",
    "\n",
    "    def __init__(self, name):\n",
    "        print('Initializing Spam')\n",
    "        self.name = name\n",
    "\n",
    "if __name__ == '__main__':\n",
    "    print(\"This should print 'Initializing Spam' twice\")\n",
    "    s = Spam('Dave')\n",
    "    t = Spam('Dave')\n",
    "    print(s is t)"
   ]
  },
  {
   "cell_type": "markdown",
   "metadata": {},
   "source": [
    "## 抽象类"
   ]
  },
  {
   "cell_type": "code",
   "execution_count": 5,
   "metadata": {},
   "outputs": [],
   "source": [
    "from abc import ABCMeta, abstractmethod\n",
    "\n",
    "class A(metaclass=ABCMeta):\n",
    "    @property\n",
    "    @abstractmethod\n",
    "    def name(self):\n",
    "        pass\n",
    "\n",
    "    @name.setter\n",
    "    @abstractmethod\n",
    "    def name(self, value):\n",
    "        pass\n",
    "\n",
    "    @classmethod\n",
    "    @abstractmethod\n",
    "    def method1(cls):\n",
    "        pass\n",
    "\n",
    "    @staticmethod\n",
    "    @abstractmethod\n",
    "    def method2():\n",
    "        pass"
   ]
  },
  {
   "cell_type": "markdown",
   "metadata": {},
   "source": [
    "## 动态定义类"
   ]
  },
  {
   "cell_type": "code",
   "execution_count": 6,
   "metadata": {},
   "outputs": [
    {
     "name": "stdout",
     "output_type": "stream",
     "text": [
      "<types.Stock object at 0x10465a6a0>\n",
      "4555.0\n"
     ]
    }
   ],
   "source": [
    "# Example of making a class manually from parts\n",
    "\n",
    "# Methods\n",
    "def __init__(self, name, shares, price):\n",
    "    self.name = name\n",
    "    self.shares = shares\n",
    "    self.price = price\n",
    "\n",
    "def cost(self):\n",
    "    return self.shares * self.price\n",
    "\n",
    "cls_dict = {\n",
    "    '__init__' : __init__,\n",
    "    'cost' : cost,\n",
    "}\n",
    "\n",
    "# Make a class\n",
    "import types\n",
    "\n",
    "Stock = types.new_class('Stock', (), {}, lambda ns: ns.update(cls_dict))\n",
    "\n",
    "if __name__ == '__main__':\n",
    "    s = Stock('ACME', 50, 91.1)\n",
    "    print(s)\n",
    "    print(s.cost())"
   ]
  },
  {
   "cell_type": "code",
   "execution_count": 7,
   "metadata": {},
   "outputs": [
    {
     "name": "stdout",
     "output_type": "stream",
     "text": [
      "<class '__main__.Point'>\n",
      "2\n",
      "4 4\n",
      "5 5\n",
      "can't set attribute\n",
      "4 5\n"
     ]
    }
   ],
   "source": [
    "# An alternative formulation of namedtuples\n",
    "\n",
    "import operator\n",
    "import types\n",
    "import sys\n",
    "\n",
    "def named_tuple(classname, fieldnames):\n",
    "    # Populate a dictionary of field property accessors\n",
    "    cls_dict = { name: property(operator.itemgetter(n))\n",
    "                 for n, name in enumerate(fieldnames) }\n",
    "\n",
    "    # Make a __new__ function and add to the class dict\n",
    "    def __new__(cls, *args):\n",
    "        if len(args) != len(fieldnames):\n",
    "            raise TypeError('Expected {} arguments'.format(len(fieldnames)))\n",
    "        return tuple.__new__(cls, (args))\n",
    "\n",
    "    cls_dict['__new__'] = __new__\n",
    "\n",
    "    # Make the class\n",
    "    cls = types.new_class(classname, (tuple,), {}, \n",
    "                           lambda ns: ns.update(cls_dict))\n",
    "    cls.__module__ = sys._getframe(1).f_globals['__name__']\n",
    "    return cls\n",
    "\n",
    "if __name__ == '__main__':\n",
    "    Point = named_tuple('Point', ['x', 'y'])\n",
    "    print(Point)\n",
    "    p = Point(4, 5)\n",
    "    print(len(p))\n",
    "    print(p.x, p[0])\n",
    "    print(p.y, p[1])\n",
    "    try:\n",
    "        p.x = 2\n",
    "    except AttributeError as e:\n",
    "        print(e)\n",
    "    print('%s %s' % p)"
   ]
  },
  {
   "cell_type": "markdown",
   "metadata": {},
   "source": [
    "## 使用元类控制类的创建\n",
    "\n",
    "### 缓存实例"
   ]
  },
  {
   "cell_type": "code",
   "execution_count": 8,
   "metadata": {},
   "outputs": [
    {
     "name": "stdout",
     "output_type": "stream",
     "text": [
      "Creating Spam('foo')\n",
      "Creating Spam('bar')\n",
      "a is b: False\n",
      "a is c: True\n"
     ]
    }
   ],
   "source": [
    "# Cached instances\n",
    "\n",
    "import weakref\n",
    "\n",
    "class Cached(type):\n",
    "    def __init__(self, *args, **kwargs):\n",
    "        super().__init__(*args, **kwargs)\n",
    "        self.__cache = weakref.WeakValueDictionary()\n",
    "\n",
    "    def __call__(self, *args):\n",
    "        if args in self.__cache:\n",
    "            return self.__cache[args]\n",
    "        else:\n",
    "            obj = super().__call__(*args)\n",
    "            self.__cache[args] = obj\n",
    "            return obj\n",
    "        \n",
    "class Spam(metaclass=Cached):\n",
    "    def __init__(self, name):\n",
    "        print('Creating Spam({!r})'.format(name))\n",
    "        self.name = name\n",
    "\n",
    "if __name__ == '__main__':\n",
    "    a = Spam('foo')\n",
    "    b = Spam('bar')\n",
    "    print('a is b:', a is b)\n",
    "    c = Spam('foo')\n",
    "    print('a is c:', a is c)"
   ]
  },
  {
   "cell_type": "markdown",
   "metadata": {},
   "source": [
    "### 单例"
   ]
  },
  {
   "cell_type": "code",
   "execution_count": 9,
   "metadata": {},
   "outputs": [
    {
     "name": "stdout",
     "output_type": "stream",
     "text": [
      "Creating Spam\n",
      "True\n"
     ]
    }
   ],
   "source": [
    "# Singleton\n",
    "\n",
    "class Singleton(type):\n",
    "    def __init__(self, *args, **kwargs):\n",
    "        self.__instance = None\n",
    "        super().__init__(*args, **kwargs)\n",
    "\n",
    "    def __call__(self, *args, **kwargs):\n",
    "        if self.__instance is None:\n",
    "            self.__instance = super().__call__(*args, **kwargs)\n",
    "            return self.__instance\n",
    "        else:\n",
    "            return self.__instance\n",
    "\n",
    "class Spam(metaclass=Singleton):\n",
    "    def __init__(self):\n",
    "        print('Creating Spam')\n",
    "\n",
    "if __name__ == '__main__':\n",
    "    a = Spam()\n",
    "    b = Spam()\n",
    "    print(a is b)"
   ]
  },
  {
   "cell_type": "markdown",
   "metadata": {},
   "source": [
    "### 禁用直接实例化"
   ]
  },
  {
   "cell_type": "code",
   "execution_count": 10,
   "metadata": {},
   "outputs": [
    {
     "name": "stdout",
     "output_type": "stream",
     "text": [
      "Can't instantiate directly\n",
      "Spam.grok\n"
     ]
    }
   ],
   "source": [
    "# Not allowing direct instantiation\n",
    "\n",
    "class NoInstances(type):\n",
    "    def __call__(self, *args, **kwargs):\n",
    "        raise TypeError(\"Can't instantiate directly\")\n",
    "\n",
    "class Spam(metaclass=NoInstances):\n",
    "    @staticmethod\n",
    "    def grok(x):\n",
    "        print('Spam.grok')\n",
    "\n",
    "if __name__ == '__main__':\n",
    "    try:\n",
    "        s = Spam()\n",
    "    except TypeError as e:\n",
    "        print(e)\n",
    "\n",
    "    Spam.grok(42)"
   ]
  },
  {
   "cell_type": "code",
   "execution_count": null,
   "metadata": {},
   "outputs": [],
   "source": []
  }
 ],
 "metadata": {
  "kernelspec": {
   "display_name": "Python 3",
   "language": "python",
   "name": "python3"
  },
  "language_info": {
   "codemirror_mode": {
    "name": "ipython",
    "version": 3
   },
   "file_extension": ".py",
   "mimetype": "text/x-python",
   "name": "python",
   "nbconvert_exporter": "python",
   "pygments_lexer": "ipython3",
   "version": "3.5.3"
  }
 },
 "nbformat": 4,
 "nbformat_minor": 2
}
