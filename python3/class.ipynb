{
 "cells": [
  {
   "cell_type": "markdown",
   "metadata": {},
   "source": [
    "# 类\n",
    "\n",
    "## 抽象类\n",
    "\n",
    "### 内置抽象基类\n",
    "\n",
    "大多数内置抽象基类在 `collection.abc`, `numbers` 和 `io` 模块中定义，但是 `collection.abc` 中的抽象基类最常用。\n",
    "\n",
    "[collection.abc 中各个抽象基类的总结](https://docs.python.org/3/library/collections.abc.html#collections-abstract-base-classes)\n",
    "\n",
    "### 自定义抽象基类\n",
    "\n",
    "抽象基类中的抽象方法可以有实现代码。但即使实现了，子类也必须覆盖抽象方法，但是在子类中可以使用 `super()` 函数调用抽象方法。"
   ]
  },
  {
   "cell_type": "code",
   "execution_count": 1,
   "metadata": {},
   "outputs": [
    {
     "name": "stdout",
     "output_type": "stream",
     "text": [
      "WonWonWon\n"
     ]
    }
   ],
   "source": [
    "from abc import ABC, abstractmethod\n",
    "\n",
    "class Pet(ABC):\n",
    "    @classmethod\n",
    "    def from_name(cls, name):\n",
    "        for s_cls in cls.__subclasses__():  # 注意 __subclasses__ 的用法\n",
    "            if name == s_cls.__name__.lower():\n",
    "                return s_cls()\n",
    "\n",
    "    @abstractmethod\n",
    "    def hello(self):\n",
    "        pass\n",
    "\n",
    "class Dog(Pet):\n",
    "\n",
    "    def hello(self):\n",
    "        print(\"WonWonWon\")\n",
    "\n",
    "Pet.from_name(\"dog\").hello()"
   ]
  },
  {
   "cell_type": "markdown",
   "metadata": {},
   "source": [
    "### 虚拟子类\n",
    "\n",
    "注册虚拟子类的方式是在抽象基类上调用 `register` 方法，`register` 方法通常作为普通函数调用，也可以作为装饰器使用。\n",
    "\n",
    "这么做之后，注册的类会变成抽象基类的虚拟子类，而且 `issubclass` 和 `isinstance` 都能识别，但是注册的类不会从抽象基类中继承任何方法或属性。"
   ]
  },
  {
   "cell_type": "code",
   "execution_count": 2,
   "metadata": {},
   "outputs": [
    {
     "data": {
      "text/plain": [
       "True"
      ]
     },
     "execution_count": 2,
     "metadata": {},
     "output_type": "execute_result"
    }
   ],
   "source": [
    "@Pet.register\n",
    "class Cat:\n",
    "    pass\n",
    "\n",
    "issubclass(Cat, Pet)"
   ]
  },
  {
   "cell_type": "code",
   "execution_count": 3,
   "metadata": {},
   "outputs": [
    {
     "data": {
      "text/plain": [
       "True"
      ]
     },
     "execution_count": 3,
     "metadata": {},
     "output_type": "execute_result"
    }
   ],
   "source": [
    "class Bird(list):\n",
    "    pass\n",
    "\n",
    "Pet.register(Bird)\n",
    "isinstance(Bird(), Pet)"
   ]
  },
  {
   "cell_type": "code",
   "execution_count": 4,
   "metadata": {},
   "outputs": [
    {
     "data": {
      "text/plain": [
       "(__main__.Bird, list, object)"
      ]
     },
     "execution_count": 4,
     "metadata": {},
     "output_type": "execute_result"
    }
   ],
   "source": [
    "Bird.__mro__"
   ]
  },
  {
   "cell_type": "markdown",
   "metadata": {},
   "source": [
    "虚拟子类的 `__mro__` 属性中没有虚拟基类，也从侧面反映了虚拟子类没有从虚拟基类中继承任何方法。\n",
    "\n",
    "## 继承\n",
    "\n",
    "直接子类化内置类型 (如 dict, list 或 str) 容易出错，因为内置类型的方法通常会忽略用户覆盖的方法。不要子类化内置类型，用户自己定义的类应该继承 collection 模块中的类，如 UserDict, UserList 和 UserString，这些类做了特殊设计，因此易于扩展。"
   ]
  },
  {
   "cell_type": "code",
   "execution_count": null,
   "metadata": {},
   "outputs": [],
   "source": []
  }
 ],
 "metadata": {
  "kernelspec": {
   "display_name": "Python 3",
   "language": "python",
   "name": "python3"
  },
  "language_info": {
   "codemirror_mode": {
    "name": "ipython",
    "version": 3
   },
   "file_extension": ".py",
   "mimetype": "text/x-python",
   "name": "python",
   "nbconvert_exporter": "python",
   "pygments_lexer": "ipython3",
   "version": "3.5.1"
  }
 },
 "nbformat": 4,
 "nbformat_minor": 2
}
