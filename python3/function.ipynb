{
 "cells": [
  {
   "cell_type": "markdown",
   "metadata": {},
   "source": [
    "# 函数\n",
    "\n",
    "## 提取函数签名"
   ]
  },
  {
   "cell_type": "code",
   "execution_count": 1,
   "metadata": {},
   "outputs": [
    {
     "data": {
      "text/plain": [
       "<Signature (a, b=1, **c)>"
      ]
     },
     "execution_count": 1,
     "metadata": {},
     "output_type": "execute_result"
    }
   ],
   "source": [
    "from inspect import signature\n",
    "\n",
    "def foo(a, b=1, **c):\n",
    "    pass\n",
    "\n",
    "sig = signature(foo)\n",
    "sig"
   ]
  },
  {
   "cell_type": "code",
   "execution_count": 2,
   "metadata": {},
   "outputs": [
    {
     "data": {
      "text/plain": [
       "[('a', inspect._empty), ('b', 1), ('c', inspect._empty)]"
      ]
     },
     "execution_count": 2,
     "metadata": {},
     "output_type": "execute_result"
    }
   ],
   "source": [
    "[(name, param.default) for name, param in sig.parameters.items()]"
   ]
  },
  {
   "cell_type": "markdown",
   "metadata": {},
   "source": [
    "`inspect.Signature` 对象有个 bind 方法，可以把任意个参数绑定到签名中的形参上，所用的规则与实参到形参的匹配方式一样。框架可以使用这个方法在真正调用函数前验证函数："
   ]
  },
  {
   "cell_type": "code",
   "execution_count": 3,
   "metadata": {},
   "outputs": [
    {
     "data": {
      "text/plain": [
       "[('a', 'aaa'), ('b', 'bbb'), ('c', {'x': 'xxx', 'y': 'yyy'})]"
      ]
     },
     "execution_count": 3,
     "metadata": {},
     "output_type": "execute_result"
    }
   ],
   "source": [
    "args = {'a': 'aaa', 'b': 'bbb', 'x': 'xxx', 'y': 'yyy'}\n",
    "bound_args = sig.bind(**args)\n",
    "[(name, value) for name, value in bound_args.arguments.items()]"
   ]
  },
  {
   "cell_type": "code",
   "execution_count": 4,
   "metadata": {},
   "outputs": [
    {
     "name": "stdout",
     "output_type": "stream",
     "text": [
      "missing a required argument: 'a'\n"
     ]
    }
   ],
   "source": [
    "del args['a']\n",
    "try:\n",
    "    sig.bind(**args)\n",
    "except Exception as e:\n",
    "    print(e)"
   ]
  },
  {
   "cell_type": "markdown",
   "metadata": {},
   "source": [
    "## 支持函数式编程的模块\n",
    "\n",
    "得益于 operator 和 functools 等模块的支持，可以编写函数式风格的 Python 代码。\n",
    "\n",
    "### operator 模块\n",
    "\n",
    "operator 模块为多个算术运算符提供了对应的函数，从而避免编写类似 `lambda a, b: a * b` 这种平凡的匿名函数："
   ]
  },
  {
   "cell_type": "code",
   "execution_count": 5,
   "metadata": {},
   "outputs": [
    {
     "data": {
      "text/plain": [
       "120"
      ]
     },
     "execution_count": 5,
     "metadata": {},
     "output_type": "execute_result"
    }
   ],
   "source": [
    "from functools import reduce\n",
    "from operator import mul\n",
    "\n",
    "reduce(mul, range(1, 6))"
   ]
  },
  {
   "cell_type": "markdown",
   "metadata": {},
   "source": [
    "#### itemgetter\n",
    "\n",
    "operator 模块中还有一类函数，能替代从序列中取出元素或读取对象属性的 lambda 表达式："
   ]
  },
  {
   "cell_type": "code",
   "execution_count": 6,
   "metadata": {},
   "outputs": [
    {
     "data": {
      "text/plain": [
       "[('a', 1), ('b', 3), ('c', 2)]"
      ]
     },
     "execution_count": 6,
     "metadata": {},
     "output_type": "execute_result"
    }
   ],
   "source": [
    "from operator import itemgetter\n",
    "\n",
    "data = [\n",
    "    ('c', 2),\n",
    "    ('b', 3), \n",
    "    ('a', 1)\n",
    "]\n",
    "\n",
    "sorted(data, key=itemgetter(0))"
   ]
  },
  {
   "cell_type": "markdown",
   "metadata": {},
   "source": [
    "如果把多个参数传给 itemgetter ，它构建的函数会返回提取的值构成的元组："
   ]
  },
  {
   "cell_type": "code",
   "execution_count": 7,
   "metadata": {},
   "outputs": [
    {
     "data": {
      "text/plain": [
       "[(2, 'c'), (3, 'b'), (1, 'a')]"
      ]
     },
     "execution_count": 7,
     "metadata": {},
     "output_type": "execute_result"
    }
   ],
   "source": [
    "[itemgetter(1, 0)(t) for t in data]"
   ]
  },
  {
   "cell_type": "markdown",
   "metadata": {},
   "source": [
    "#### attrgetter\n",
    "\n",
    "attrgetter 与 itemgetter 作用类似，它创建的函数根据名称提取对象的属性。如果把多个属性名传给 attrgetter ，它也会返回提取的值构成的元组。\n",
    "\n",
    "此外，如果参数名中包含 `.` ，attrgetter 会深入嵌套对象，获取指定的属性。"
   ]
  },
  {
   "cell_type": "markdown",
   "metadata": {},
   "source": [
    "#### methodcall\n",
    "\n",
    "methodcall 会自行创建函数，该函数会在对象上调用参数指定的方法："
   ]
  },
  {
   "cell_type": "code",
   "execution_count": 8,
   "metadata": {},
   "outputs": [
    {
     "data": {
      "text/plain": [
       "'HELLO WORLD'"
      ]
     },
     "execution_count": 8,
     "metadata": {},
     "output_type": "execute_result"
    }
   ],
   "source": [
    "from operator import methodcaller\n",
    "s = \"hello world\"\n",
    "upcase = methodcaller('upper')\n",
    "upcase(s)"
   ]
  },
  {
   "cell_type": "code",
   "execution_count": 9,
   "metadata": {},
   "outputs": [
    {
     "data": {
      "text/plain": [
       "'hello-world'"
      ]
     },
     "execution_count": 9,
     "metadata": {},
     "output_type": "execute_result"
    }
   ],
   "source": [
    "hiphenate = methodcaller('replace', ' ', '-')\n",
    "hiphenate(s)"
   ]
  },
  {
   "cell_type": "markdown",
   "metadata": {},
   "source": [
    "## 闭包\n",
    "\n",
    "闭包是一种函数，它会保留定义函数时存在的 **自由变量(free variable)** 的绑定，这样调用函数时，虽然定义作用域不可用了，但是仍能使用那些绑定。"
   ]
  },
  {
   "cell_type": "code",
   "execution_count": 10,
   "metadata": {},
   "outputs": [
    {
     "data": {
      "text/plain": [
       "('new_value', 'total')"
      ]
     },
     "execution_count": 10,
     "metadata": {},
     "output_type": "execute_result"
    }
   ],
   "source": [
    "def make_averager():\n",
    "    series = []\n",
    "    \n",
    "    def averager(new_value):\n",
    "        series.append(new_value)\n",
    "        total = sum(series)\n",
    "        return total/len(series)\n",
    "    \n",
    "    return averager\n",
    "\n",
    "avg = make_averager()\n",
    "avg(10)\n",
    "avg(11)\n",
    "avg(12)\n",
    "\n",
    "avg.__code__.co_varnames"
   ]
  },
  {
   "cell_type": "code",
   "execution_count": 11,
   "metadata": {},
   "outputs": [
    {
     "data": {
      "text/plain": [
       "('series',)"
      ]
     },
     "execution_count": 11,
     "metadata": {},
     "output_type": "execute_result"
    }
   ],
   "source": [
    "avg.__code__.co_freevars"
   ]
  },
  {
   "cell_type": "markdown",
   "metadata": {},
   "source": [
    "`__closure__` 中的各个元素对应于 `__code__.co_freevars` 中的一个名称："
   ]
  },
  {
   "cell_type": "code",
   "execution_count": 12,
   "metadata": {},
   "outputs": [
    {
     "data": {
      "text/plain": [
       "(<cell at 0x10b65d498: list object at 0x10b75b848>,)"
      ]
     },
     "execution_count": 12,
     "metadata": {},
     "output_type": "execute_result"
    }
   ],
   "source": [
    "avg.__closure__"
   ]
  },
  {
   "cell_type": "code",
   "execution_count": 13,
   "metadata": {},
   "outputs": [
    {
     "data": {
      "text/plain": [
       "[10, 11, 12]"
      ]
     },
     "execution_count": 13,
     "metadata": {},
     "output_type": "execute_result"
    }
   ],
   "source": [
    "avg.__closure__[0].cell_contents"
   ]
  },
  {
   "cell_type": "markdown",
   "metadata": {},
   "source": [
    "### nonlocal\n",
    "\n",
    "nonlocal 的作用是把变量标记为自由变量。"
   ]
  },
  {
   "cell_type": "code",
   "execution_count": 14,
   "metadata": {},
   "outputs": [
    {
     "data": {
      "text/plain": [
       "2.0"
      ]
     },
     "execution_count": 14,
     "metadata": {},
     "output_type": "execute_result"
    }
   ],
   "source": [
    "def make_averager():\n",
    "    count = 0\n",
    "    total = 0 \n",
    "    \n",
    "    def averager(new_value):\n",
    "        nonlocal count, total\n",
    "        count += 1\n",
    "        total += new_value\n",
    "        return total / count\n",
    "    \n",
    "    return averager\n",
    "\n",
    "avg = make_averager()\n",
    "avg(1)\n",
    "avg(2)\n",
    "avg(3)"
   ]
  },
  {
   "cell_type": "markdown",
   "metadata": {},
   "source": [
    "### 闭包的陷阱"
   ]
  },
  {
   "cell_type": "code",
   "execution_count": 15,
   "metadata": {},
   "outputs": [
    {
     "data": {
      "text/plain": [
       "(9, 9, 9)"
      ]
     },
     "execution_count": 15,
     "metadata": {},
     "output_type": "execute_result"
    }
   ],
   "source": [
    "def count():\n",
    "    fs = []\n",
    "    for i in range(1, 4):\n",
    "        def f():\n",
    "             return i*i\n",
    "        fs.append(f)\n",
    "    return fs\n",
    "\n",
    "f1, f2, f3 = count()\n",
    "f1(), f2(), f3()"
   ]
  },
  {
   "cell_type": "markdown",
   "metadata": {},
   "source": [
    "需注意：<span style=\"color: red\">闭包中不要引用任何可能会变化的变量。</span>如果一定要引用会变化的变量，可以再创建一个函数："
   ]
  },
  {
   "cell_type": "code",
   "execution_count": 16,
   "metadata": {},
   "outputs": [
    {
     "data": {
      "text/plain": [
       "(1, 4, 9)"
      ]
     },
     "execution_count": 16,
     "metadata": {},
     "output_type": "execute_result"
    }
   ],
   "source": [
    "def count():\n",
    "    def f(j):\n",
    "        def g():\n",
    "            return j*j\n",
    "        return g\n",
    "    fs = []\n",
    "    for i in range(1, 4):\n",
    "        fs.append(f(i))\n",
    "    return fs\n",
    "\n",
    "f1, f2, f3 = count()\n",
    "f1(), f2(), f3()"
   ]
  },
  {
   "cell_type": "markdown",
   "metadata": {},
   "source": [
    "## 装饰器\n",
    "\n",
    "### functool.wraps"
   ]
  },
  {
   "cell_type": "code",
   "execution_count": 17,
   "metadata": {},
   "outputs": [
    {
     "name": "stdout",
     "output_type": "stream",
     "text": [
      "[1.00004738] snooze() -> None\n"
     ]
    }
   ],
   "source": [
    "import functools\n",
    "import time\n",
    "\n",
    "def clock(func):\n",
    "    @functools.wraps(func)\n",
    "    def wrapper(*args, **kw):\n",
    "        t0 = time.perf_counter()\n",
    "        result = func(*args, **kw)\n",
    "        elapsed = time.perf_counter() - t0\n",
    "        name = func.__name__\n",
    "        arg_lst = []\n",
    "        if args:\n",
    "            arg_lst.append(', '.join(repr(arg) for arg in args))\n",
    "        if kw:\n",
    "            pairs = ['{}={}'.format(k, w) for k, w in sorted(kw.items())]\n",
    "            arg_lst.append(', '.join(pairs))\n",
    "        arg_str = ', '.join(arg_lst)\n",
    "        print(\"[{:0.8f}] {}({}) -> {}\".format(elapsed, name, arg_str, result))\n",
    "        return result\n",
    "    return wrapper\n",
    "\n",
    "@clock\n",
    "def snooze():\n",
    "    time.sleep(1)\n",
    "\n",
    "snooze()"
   ]
  },
  {
   "cell_type": "markdown",
   "metadata": {},
   "source": [
    "### functools.lru_cache\n",
    "\n",
    "这是一项优化技术，它把耗时的函数的结果缓存起来，避免传入相同的参数时重复计算。lru_cache 可以使用两个可选的参数来配置：\n",
    "\n",
    "``` python\n",
    "functools.lru_cache(maxsize=128, typed=False)\n",
    "```\n",
    "\n",
    "maxsize 指定存储多少个调用的结果。缓存满了之后，旧的结果会被删除，腾出空间。为了得到最佳性能，maxsize 应设为 2 的幂。\n",
    "typed 参数如果设为 True ，把不同参数类型得到的结果分开保存，即把通常认为相等的浮点数和整数参数(如 1 和 1.0)区分开。\n",
    "\n",
    "因为 lru_cache 使用字典存储结果，而且键根据调用时传入的定位参数和关键字参数创建，因此被 lru_cache 装饰的函数，它的所有参数必须是可散列的。"
   ]
  },
  {
   "cell_type": "code",
   "execution_count": 18,
   "metadata": {},
   "outputs": [
    {
     "name": "stdout",
     "output_type": "stream",
     "text": [
      "[0.00000068] fib(0) -> 0\n",
      "[0.00000198] fib(1) -> 1\n",
      "[0.00053346] fib(2) -> 1\n",
      "[0.00000097] fib(1) -> 1\n",
      "[0.00000101] fib(0) -> 0\n",
      "[0.00000118] fib(1) -> 1\n",
      "[0.00044184] fib(2) -> 1\n",
      "[0.00194852] fib(3) -> 2\n",
      "[0.00270590] fib(4) -> 3\n",
      "[0.00000111] fib(1) -> 1\n",
      "[0.00000115] fib(0) -> 0\n",
      "[0.00000178] fib(1) -> 1\n",
      "[0.00067502] fib(2) -> 1\n",
      "[0.00094933] fib(3) -> 2\n",
      "[0.00000105] fib(0) -> 0\n",
      "[0.00000131] fib(1) -> 1\n",
      "[0.00034278] fib(2) -> 1\n",
      "[0.00000115] fib(1) -> 1\n",
      "[0.00000124] fib(0) -> 0\n",
      "[0.00000165] fib(1) -> 1\n",
      "[0.00034642] fib(2) -> 1\n",
      "[0.00061123] fib(3) -> 2\n",
      "[0.00153016] fib(4) -> 3\n",
      "[0.00311146] fib(5) -> 5\n",
      "[0.00648946] fib(6) -> 8\n"
     ]
    },
    {
     "data": {
      "text/plain": [
       "8"
      ]
     },
     "execution_count": 18,
     "metadata": {},
     "output_type": "execute_result"
    }
   ],
   "source": [
    "@clock\n",
    "def fib(n):\n",
    "    if n < 2: return n\n",
    "    return fib(n-2) + fib(n-1)\n",
    "\n",
    "fib(6)"
   ]
  },
  {
   "cell_type": "code",
   "execution_count": 19,
   "metadata": {},
   "outputs": [
    {
     "name": "stdout",
     "output_type": "stream",
     "text": [
      "[0.00000126] fib(0) -> 0\n",
      "[0.00000169] fib(1) -> 1\n",
      "[0.00104439] fib(2) -> 1\n",
      "[0.00000265] fib(3) -> 2\n",
      "[0.00118195] fib(4) -> 3\n",
      "[0.00000275] fib(5) -> 5\n",
      "[0.00253019] fib(6) -> 8\n"
     ]
    },
    {
     "data": {
      "text/plain": [
       "8"
      ]
     },
     "execution_count": 19,
     "metadata": {},
     "output_type": "execute_result"
    }
   ],
   "source": [
    "import functools\n",
    "\n",
    "@functools.lru_cache()\n",
    "@clock\n",
    "def fib(n):\n",
    "    if n < 2:\n",
    "        return n\n",
    "    return fib(n-2) + fib(n-1)\n",
    "\n",
    "fib(6)"
   ]
  },
  {
   "cell_type": "markdown",
   "metadata": {},
   "source": [
    "### functools.singledispatch\n",
    "\n",
    "使用 @singledispatch 装饰的普通函数会变成分派函数，或称为泛函数 (generic function) ：根据第一个参数的类型，选择对应的函数。\n",
    "\n",
    "#### 分派函数\n",
    "\n",
    "``` python\n",
    "def handle_value(value):\n",
    "    if isinstance(value, int):\n",
    "        handle_value_int(value)\n",
    "    elif isinstance(value, str):\n",
    "        handle_value_str(value)\n",
    "    else:\n",
    "        handle_value_defalut(value)\n",
    "```\n",
    "\n",
    "@singledispatch 的优点是支持模块化扩展：各个模块可以为它支持的各个类型注册一个专门的函数。"
   ]
  },
  {
   "cell_type": "code",
   "execution_count": 20,
   "metadata": {},
   "outputs": [
    {
     "name": "stdout",
     "output_type": "stream",
     "text": [
      "Let me just say, 3\n"
     ]
    }
   ],
   "source": [
    "from functools import singledispatch\n",
    "from collections import abc\n",
    "import numbers\n",
    "\n",
    "@singledispatch\n",
    "def fun(arg, verbose=False):\n",
    "    if verbose:\n",
    "        print(\"Let me just say,\", end=\" \")\n",
    "    print(arg)\n",
    "    \n",
    "@fun.register(numbers.Integral)\n",
    "def _(arg, verbose=False):  # 函数名称无关紧要\n",
    "    if verbose:\n",
    "        print(\"Strength in numbers, eh?\", end=\" \")\n",
    "    print(arg)\n",
    "    \n",
    "@fun.register(abc.MutableSequence)\n",
    "@fun.register(tuple)  # 可以叠放多个 register 装饰器，以支持不同的类型\n",
    "def handle_seq(arg, verbose=False):\n",
    "    if verbose:\n",
    "        print(\"Enumerate this:\")\n",
    "    for i, elem in enumerate(arg):\n",
    "        print(i, elem)\n",
    "\n",
    "fun(\"3\", True)"
   ]
  },
  {
   "cell_type": "code",
   "execution_count": 21,
   "metadata": {},
   "outputs": [
    {
     "name": "stdout",
     "output_type": "stream",
     "text": [
      "Strength in numbers, eh? 3\n"
     ]
    }
   ],
   "source": [
    "fun(3, True)"
   ]
  },
  {
   "cell_type": "code",
   "execution_count": 22,
   "metadata": {},
   "outputs": [
    {
     "name": "stdout",
     "output_type": "stream",
     "text": [
      "Enumerate this:\n",
      "0 3\n"
     ]
    }
   ],
   "source": [
    "fun((3,), True)"
   ]
  },
  {
   "cell_type": "code",
   "execution_count": 23,
   "metadata": {},
   "outputs": [
    {
     "data": {
      "text/plain": [
       "<function __main__.handle_seq>"
      ]
     },
     "execution_count": 23,
     "metadata": {},
     "output_type": "execute_result"
    }
   ],
   "source": [
    "fun.dispatch(tuple)"
   ]
  },
  {
   "cell_type": "code",
   "execution_count": 24,
   "metadata": {},
   "outputs": [
    {
     "data": {
      "text/plain": [
       "dict_keys([<class 'object'>, <class 'numbers.Integral'>, <class 'collections.abc.MutableSequence'>, <class 'tuple'>])"
      ]
     },
     "execution_count": 24,
     "metadata": {},
     "output_type": "execute_result"
    }
   ],
   "source": [
    "fun.registry.keys()"
   ]
  },
  {
   "cell_type": "markdown",
   "metadata": {},
   "source": [
    "注册的专门函数应该处理抽象基类 (如 numbers.Integral 和 abc.MutableSequence) ，不要处理具体实现 (如 int 和 list) ，这样，代码支持的兼容类型更广泛。\n",
    "\n",
    "## 参数\n",
    "\n",
    "在 Python 中定义函数，可以用必选参数、默认参数、可变参数、关键字参数和命名关键字参数，这 5 种参数都可以组合使用。\n",
    "\n",
    "组合参数定义的顺序必须是：必选参数、默认参数、可变参数、命名关键字参数和关键字参数。\n",
    "\n",
    "### 命名关键字参数\n",
    "\n",
    "命名关键字参数可以用于限制关键字参数的名字。命名关键字参数必须传入参数名，如果没有传入参数名，调用将报错。"
   ]
  },
  {
   "cell_type": "code",
   "execution_count": 25,
   "metadata": {},
   "outputs": [],
   "source": [
    "# 只接收 city 和 job 作为关键字参数\n",
    "def person(name, age, *, city, job):             # 命名关键字参数需要一个特殊分隔符 *\n",
    "    print(name, age, city, job)                  # * 后面的参数被视为命名关键字参数\n",
    "\n",
    "def person2(name, age, *, city='Beijing', job):  # 可以有默认值\n",
    "    print(name, age, city, job)\n",
    "\n",
    "# 如果函数定义中已经有了一个可变参数\n",
    "# 后面跟着的命名关键字参数就不再需要一个特殊分隔符 * 了\n",
    "def person(name, age, *args, city, job):\n",
    "    print(name, age, args, city, job)"
   ]
  },
  {
   "cell_type": "markdown",
   "metadata": {},
   "source": [
    "### 默认参数\n",
    "\n",
    "<span style=\"color: red\">定义默认参数时，默认参数必须指向不可变对象。</span>"
   ]
  },
  {
   "cell_type": "code",
   "execution_count": 26,
   "metadata": {},
   "outputs": [
    {
     "data": {
      "text/plain": [
       "['END']"
      ]
     },
     "execution_count": 26,
     "metadata": {},
     "output_type": "execute_result"
    }
   ],
   "source": [
    "def add_end(L=[]):\n",
    "    L.append('END')\n",
    "    return L\n",
    "\n",
    "add_end()"
   ]
  },
  {
   "cell_type": "code",
   "execution_count": 27,
   "metadata": {},
   "outputs": [
    {
     "data": {
      "text/plain": [
       "['END', 'END']"
      ]
     },
     "execution_count": 27,
     "metadata": {},
     "output_type": "execute_result"
    }
   ],
   "source": [
    "add_end()"
   ]
  },
  {
   "cell_type": "code",
   "execution_count": 28,
   "metadata": {},
   "outputs": [
    {
     "data": {
      "text/plain": [
       "['END', 'END', 'END']"
      ]
     },
     "execution_count": 28,
     "metadata": {},
     "output_type": "execute_result"
    }
   ],
   "source": [
    "add_end()"
   ]
  },
  {
   "cell_type": "markdown",
   "metadata": {},
   "source": [
    "原因：\n",
    "\n",
    "函数在定义的时候，默认参数 L 的值就被计算出来了，即 `[]` ，且保存在函数对象中。每次调用该函数，如果改变了 L 的内容，则下次调用时，默认参数的内容就变了。\n",
    "\n",
    "可以用 None 这个不可变对象来实现："
   ]
  },
  {
   "cell_type": "code",
   "execution_count": 29,
   "metadata": {},
   "outputs": [],
   "source": [
    "def add_end(L=None):\n",
    "    if L is None:\n",
    "        L = []\n",
    "        L.append('END')\n",
    "        return L"
   ]
  },
  {
   "cell_type": "code",
   "execution_count": null,
   "metadata": {},
   "outputs": [],
   "source": []
  }
 ],
 "metadata": {
  "kernelspec": {
   "display_name": "Python 3",
   "language": "python",
   "name": "python3"
  },
  "language_info": {
   "codemirror_mode": {
    "name": "ipython",
    "version": 3
   },
   "file_extension": ".py",
   "mimetype": "text/x-python",
   "name": "python",
   "nbconvert_exporter": "python",
   "pygments_lexer": "ipython3",
   "version": "3.5.3"
  }
 },
 "nbformat": 4,
 "nbformat_minor": 2
}
