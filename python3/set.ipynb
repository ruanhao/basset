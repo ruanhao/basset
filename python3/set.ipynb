{
 "cells": [
  {
   "cell_type": "markdown",
   "metadata": {},
   "source": [
    "# 集合"
   ]
  },
  {
   "cell_type": "markdown",
   "metadata": {},
   "source": [
    "集合实现了很多基础的中缀运算符：\n",
    "- 合集：`a | b`\n",
    "- 交集：`a & b`\n",
    "- 差集：`a - b`"
   ]
  },
  {
   "cell_type": "markdown",
   "metadata": {},
   "source": [
    "## 构造集合"
   ]
  },
  {
   "cell_type": "code",
   "execution_count": 1,
   "metadata": {},
   "outputs": [
    {
     "data": {
      "text/plain": [
       "{1, 2, 3}"
      ]
     },
     "execution_count": 1,
     "metadata": {},
     "output_type": "execute_result"
    }
   ],
   "source": [
    "s = {1, 2, 3, 1, 2, 3}\n",
    "s"
   ]
  },
  {
   "cell_type": "code",
   "execution_count": 2,
   "metadata": {},
   "outputs": [
    {
     "data": {
      "text/plain": [
       "set()"
      ]
     },
     "execution_count": 2,
     "metadata": {},
     "output_type": "execute_result"
    }
   ],
   "source": [
    "s = set()  # 空集须写成 set()\n",
    "s"
   ]
  },
  {
   "cell_type": "code",
   "execution_count": 3,
   "metadata": {},
   "outputs": [
    {
     "data": {
      "text/plain": [
       "frozenset({0, 1, 2, 3, 4, 5, 6, 7, 8, 9})"
      ]
     },
     "execution_count": 3,
     "metadata": {},
     "output_type": "execute_result"
    }
   ],
   "source": [
    "s = frozenset(range(10))\n",
    "s"
   ]
  },
  {
   "cell_type": "code",
   "execution_count": 4,
   "metadata": {},
   "outputs": [
    {
     "data": {
      "text/plain": [
       "{'d', 'e', 'h', 'l', 'o', 'r', 'w'}"
      ]
     },
     "execution_count": 4,
     "metadata": {},
     "output_type": "execute_result"
    }
   ],
   "source": [
    "s = { c for c in 'helloworld'}\n",
    "s"
   ]
  },
  {
   "cell_type": "markdown",
   "metadata": {},
   "source": [
    "## Hash 算法"
   ]
  },
  {
   "cell_type": "code",
   "execution_count": 5,
   "metadata": {},
   "outputs": [],
   "source": [
    "import iplantuml"
   ]
  },
  {
   "cell_type": "code",
   "execution_count": 6,
   "metadata": {},
   "outputs": [
    {
     "data": {
      "image/svg+xml": [
       "<svg contentScriptType=\"application/ecmascript\" contentStyleType=\"text/css\" height=\"365px\" preserveAspectRatio=\"none\" style=\"width:606px;height:365px;\" version=\"1.1\" viewBox=\"0 0 606 365\" width=\"606px\" xmlns=\"http://www.w3.org/2000/svg\" xmlns:xlink=\"http://www.w3.org/1999/xlink\" zoomAndPan=\"magnify\"><defs><filter height=\"300%\" id=\"f346nyx\" width=\"300%\" x=\"-1\" y=\"-1\"><feGaussianBlur result=\"blurOut\" stdDeviation=\"2.0\"/><feColorMatrix in=\"blurOut\" result=\"blurOut2\" type=\"matrix\" values=\"0 0 0 0 0 0 0 0 0 0 0 0 0 0 0 0 0 0 .4 0\"/><feOffset dx=\"4.0\" dy=\"4.0\" in=\"blurOut2\" result=\"blurOut3\"/><feBlend in=\"SourceGraphic\" in2=\"blurOut3\" mode=\"normal\"/></filter></defs><g><rect fill=\"#FEFECE\" filter=\"url(#f346nyx)\" height=\"34.1328\" rx=\"12.5\" ry=\"12.5\" style=\"stroke: #A80036; stroke-width: 1.5;\" width=\"104\" x=\"163\" y=\"10\"/><text fill=\"#000000\" font-family=\"sans-serif\" font-size=\"12\" lengthAdjust=\"spacingAndGlyphs\" textLength=\"84\" x=\"173\" y=\"31.6016\">计算键的散列值</text><rect fill=\"#FEFECE\" filter=\"url(#f346nyx)\" height=\"34.1328\" rx=\"12.5\" ry=\"12.5\" style=\"stroke: #A80036; stroke-width: 1.5;\" width=\"371\" x=\"29.5\" y=\"64.1328\"/><text fill=\"#000000\" font-family=\"sans-serif\" font-size=\"12\" lengthAdjust=\"spacingAndGlyphs\" textLength=\"351\" x=\"39.5\" y=\"85.7344\">使用散列值最低的几位数字来定位散列表用的一个表元（bucket）</text><polygon fill=\"#FEFECE\" filter=\"url(#f346nyx)\" points=\"198.5,174.4004,231.5,174.4004,243.5,186.4004,231.5,198.4004,198.5,198.4004,186.5,186.4004,198.5,174.4004\" style=\"stroke: #A80036; stroke-width: 1.5;\"/><text fill=\"#000000\" font-family=\"sans-serif\" font-size=\"11\" lengthAdjust=\"spacingAndGlyphs\" textLength=\"33\" x=\"198.5\" y=\"190.5576\">键相等</text><text fill=\"#000000\" font-family=\"sans-serif\" font-size=\"11\" lengthAdjust=\"spacingAndGlyphs\" textLength=\"11\" x=\"175.5\" y=\"184.0801\">是</text><text fill=\"#000000\" font-family=\"sans-serif\" font-size=\"11\" lengthAdjust=\"spacingAndGlyphs\" textLength=\"11\" x=\"243.5\" y=\"184.0801\">否</text><rect fill=\"#FEFECE\" filter=\"url(#f346nyx)\" height=\"34.1328\" rx=\"12.5\" ry=\"12.5\" style=\"stroke: #A80036; stroke-width: 1.5;\" width=\"108\" x=\"46\" y=\"208.4004\"/><text fill=\"#000000\" font-family=\"sans-serif\" font-size=\"12\" lengthAdjust=\"spacingAndGlyphs\" textLength=\"84\" x=\"60\" y=\"230.002\">返回表元里的值</text><ellipse cx=\"100\" cy=\"272.5332\" fill=\"none\" filter=\"url(#f346nyx)\" rx=\"10\" ry=\"10\" style=\"stroke: #000000; stroke-width: 1.0;\"/><ellipse cx=\"100.5\" cy=\"273.0332\" fill=\"#000000\" filter=\"url(#f346nyx)\" rx=\"6\" ry=\"6\" style=\"stroke: none; stroke-width: 1.0;\"/><polygon fill=\"#FBFB77\" filter=\"url(#f346nyx)\" points=\"506,212.8115,506,238.1221,579,238.1221,579,222.8115,569,212.8115,506,212.8115\" style=\"stroke: #A80036; stroke-width: 1.0;\"/><polygon fill=\"#FBFB77\" points=\"506,212.8115,506,221.4668,486,225.4668,506,229.4668,506,238.1221,579,238.1221,579,222.8115,569,212.8115,506,212.8115\" style=\"stroke: #A80036; stroke-width: 1.0;\"/><line style=\"stroke: #A80036; stroke-width: 1.0;\" x1=\"569\" x2=\"569\" y1=\"212.8115\" y2=\"222.8115\"/><line style=\"stroke: #A80036; stroke-width: 1.0;\" x1=\"579\" x2=\"569\" y1=\"222.8115\" y2=\"222.8115\"/><text fill=\"#000000\" font-family=\"sans-serif\" font-size=\"13\" lengthAdjust=\"spacingAndGlyphs\" textLength=\"52\" x=\"512\" y=\"230.3799\">散列冲突</text><rect fill=\"#FEFECE\" filter=\"url(#f346nyx)\" height=\"34.1328\" rx=\"12.5\" ry=\"12.5\" style=\"stroke: #A80036; stroke-width: 1.5;\" width=\"312\" x=\"174\" y=\"208.4004\"/><text fill=\"#000000\" font-family=\"sans-serif\" font-size=\"12\" lengthAdjust=\"spacingAndGlyphs\" textLength=\"288\" x=\"188\" y=\"230.002\">在散列值中另外再取几位来定位散列表中的另一个表元</text><polygon fill=\"#FEFECE\" filter=\"url(#f346nyx)\" points=\"193,118.2656,237,118.2656,249,130.2656,237,142.2656,193,142.2656,181,130.2656,193,118.2656\" style=\"stroke: #A80036; stroke-width: 1.5;\"/><text fill=\"#000000\" font-family=\"sans-serif\" font-size=\"11\" lengthAdjust=\"spacingAndGlyphs\" textLength=\"11\" x=\"219\" y=\"152.9004\">否</text><text fill=\"#000000\" font-family=\"sans-serif\" font-size=\"11\" lengthAdjust=\"spacingAndGlyphs\" textLength=\"44\" x=\"193\" y=\"134.4229\">表元为空</text><text fill=\"#000000\" font-family=\"sans-serif\" font-size=\"11\" lengthAdjust=\"spacingAndGlyphs\" textLength=\"11\" x=\"170\" y=\"127.9453\">是</text><rect fill=\"#FEFECE\" filter=\"url(#f346nyx)\" height=\"34.1328\" rx=\"12.5\" ry=\"12.5\" style=\"stroke: #A80036; stroke-width: 1.5;\" width=\"70\" x=\"180\" y=\"324.5332\"/><text fill=\"#000000\" font-family=\"sans-serif\" font-size=\"12\" lengthAdjust=\"spacingAndGlyphs\" textLength=\"50\" x=\"190\" y=\"346.1348\">KeyError</text><line style=\"stroke: #A80036; stroke-width: 1.5;\" x1=\"215\" x2=\"215\" y1=\"44.1328\" y2=\"64.1328\"/><polygon fill=\"#A80036\" points=\"211,54.1328,215,64.1328,219,54.1328,215,58.1328\" style=\"stroke: #A80036; stroke-width: 1.0;\"/><line style=\"stroke: #A80036; stroke-width: 1.5;\" x1=\"100\" x2=\"100\" y1=\"242.5332\" y2=\"262.5332\"/><polygon fill=\"#A80036\" points=\"96,252.5332,100,262.5332,104,252.5332,100,256.5332\" style=\"stroke: #A80036; stroke-width: 1.0;\"/><line style=\"stroke: #A80036; stroke-width: 1.5;\" x1=\"186.5\" x2=\"100\" y1=\"186.4004\" y2=\"186.4004\"/><line style=\"stroke: #A80036; stroke-width: 1.5;\" x1=\"100\" x2=\"100\" y1=\"186.4004\" y2=\"208.4004\"/><polygon fill=\"#A80036\" points=\"96,198.4004,100,208.4004,104,198.4004,100,202.4004\" style=\"stroke: #A80036; stroke-width: 1.0;\"/><line style=\"stroke: #A80036; stroke-width: 1.5;\" x1=\"243.5\" x2=\"330\" y1=\"186.4004\" y2=\"186.4004\"/><line style=\"stroke: #A80036; stroke-width: 1.5;\" x1=\"330\" x2=\"330\" y1=\"186.4004\" y2=\"208.4004\"/><polygon fill=\"#A80036\" points=\"326,198.4004,330,208.4004,334,198.4004,330,202.4004\" style=\"stroke: #A80036; stroke-width: 1.0;\"/><line style=\"stroke: #A80036; stroke-width: 1.5;\" x1=\"330\" x2=\"330\" y1=\"242.5332\" y2=\"292.5332\"/><line style=\"stroke: #A80036; stroke-width: 1.5;\" x1=\"330\" x2=\"601\" y1=\"292.5332\" y2=\"292.5332\"/><polygon fill=\"#A80036\" points=\"597,230.4893,601,220.4893,605,230.4893,601,226.4893\" style=\"stroke: #A80036; stroke-width: 1.5;\"/><line style=\"stroke: #A80036; stroke-width: 1.5;\" x1=\"601\" x2=\"601\" y1=\"130.2656\" y2=\"292.5332\"/><line style=\"stroke: #A80036; stroke-width: 1.5;\" x1=\"601\" x2=\"249\" y1=\"130.2656\" y2=\"130.2656\"/><polygon fill=\"#A80036\" points=\"259,126.2656,249,130.2656,259,134.2656,255,130.2656\" style=\"stroke: #A80036; stroke-width: 1.0;\"/><line style=\"stroke: #A80036; stroke-width: 1.5;\" x1=\"215\" x2=\"215\" y1=\"142.2656\" y2=\"174.4004\"/><polygon fill=\"#A80036\" points=\"211,164.4004,215,174.4004,219,164.4004,215,168.4004\" style=\"stroke: #A80036; stroke-width: 1.0;\"/><line style=\"stroke: #A80036; stroke-width: 1.5;\" x1=\"181\" x2=\"24\" y1=\"130.2656\" y2=\"130.2656\"/><polygon fill=\"#A80036\" points=\"20,216.4893,24,226.4893,28,216.4893,24,220.4893\" style=\"stroke: #A80036; stroke-width: 1.5;\"/><line style=\"stroke: #A80036; stroke-width: 1.5;\" x1=\"24\" x2=\"24\" y1=\"130.2656\" y2=\"304.5332\"/><line style=\"stroke: #A80036; stroke-width: 1.5;\" x1=\"24\" x2=\"215\" y1=\"304.5332\" y2=\"304.5332\"/><line style=\"stroke: #A80036; stroke-width: 1.5;\" x1=\"215\" x2=\"215\" y1=\"304.5332\" y2=\"324.5332\"/><polygon fill=\"#A80036\" points=\"211,314.5332,215,324.5332,219,314.5332,215,318.5332\" style=\"stroke: #A80036; stroke-width: 1.0;\"/><line style=\"stroke: #A80036; stroke-width: 1.5;\" x1=\"215\" x2=\"215\" y1=\"98.2656\" y2=\"118.2656\"/><polygon fill=\"#A80036\" points=\"211,108.2656,215,118.2656,219,108.2656,215,112.2656\" style=\"stroke: #A80036; stroke-width: 1.0;\"/></g></svg>"
      ],
      "text/plain": [
       "<IPython.core.display.SVG object>"
      ]
     },
     "execution_count": 6,
     "metadata": {},
     "output_type": "execute_result"
    }
   ],
   "source": [
    "%%plantuml\n",
    "\n",
    "@startuml\n",
    ":计算键的散列值;\n",
    ":使用散列值最低的几位数字来定位散列表用的一个表元(bucket);\n",
    "while (表元为空) is (否)\n",
    "    if (键相等) then (是)\n",
    "        : 返回表元里的值;\n",
    "        stop\n",
    "    else (否)\n",
    "        : 在散列值中另外再取几位来定位散列表中的另一个表元;\n",
    "        note right: 散列冲突\n",
    "    endif\n",
    "endwhile (是)\n",
    "    :KeyError;\n",
    "@enduml"
   ]
  },
  {
   "cell_type": "markdown",
   "metadata": {},
   "source": [
    "如果实现了一个类的 `__eq__` 方法，并且希望它是可散列的，则一定需要有一个恰当的 `__hash__` 方法，保证在 `a == b` 为真的情况下 `hash(a) == hash(b)` 也必定为真。\n",
    "\n",
    "如果一个含有自定义 `__eq__` 方法的类处于可变的状态，就不要在这个类中实现 `__hash__` 方法，因为它的实例是不可散列的。"
   ]
  },
  {
   "cell_type": "code",
   "execution_count": null,
   "metadata": {},
   "outputs": [],
   "source": []
  }
 ],
 "metadata": {
  "kernelspec": {
   "display_name": "Python 3",
   "language": "python",
   "name": "python3"
  },
  "language_info": {
   "codemirror_mode": {
    "name": "ipython",
    "version": 3
   },
   "file_extension": ".py",
   "mimetype": "text/x-python",
   "name": "python",
   "nbconvert_exporter": "python",
   "pygments_lexer": "ipython3",
   "version": "3.5.3"
  }
 },
 "nbformat": 4,
 "nbformat_minor": 2
}
